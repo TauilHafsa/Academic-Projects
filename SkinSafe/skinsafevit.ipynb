{
 "cells": [
  {
   "cell_type": "code",
   "execution_count": 1,
   "id": "fd600fb5",
   "metadata": {
    "_cell_guid": "b1076dfc-b9ad-4769-8c92-a6c4dae69d19",
    "_uuid": "8f2839f25d086af736a60e9eeb907d3b93b6e0e5",
    "execution": {
     "iopub.execute_input": "2025-03-08T10:12:01.443251Z",
     "iopub.status.busy": "2025-03-08T10:12:01.442915Z",
     "iopub.status.idle": "2025-03-08T10:12:14.135220Z",
     "shell.execute_reply": "2025-03-08T10:12:14.134504Z"
    },
    "papermill": {
     "duration": 12.698112,
     "end_time": "2025-03-08T10:12:14.136746",
     "exception": false,
     "start_time": "2025-03-08T10:12:01.438634",
     "status": "completed"
    },
    "tags": []
   },
   "outputs": [
    {
     "name": "stderr",
     "output_type": "stream",
     "text": [
      "/usr/local/lib/python3.10/dist-packages/albumentations/__init__.py:24: UserWarning: A new version of Albumentations is available: 2.0.5 (you have 1.4.20). Upgrade using: pip install -U albumentations. To disable automatic update checks, set the environment variable NO_ALBUMENTATIONS_UPDATE to 1.\n",
      "  check_for_updates()\n"
     ]
    }
   ],
   "source": [
    "import numpy as np\n",
    "import pandas as pd\n",
    "import matplotlib.pyplot as plt\n",
    "import os\n",
    "from PIL import Image\n",
    "import torch\n",
    "from torch import nn, optim\n",
    "import torch.nn.functional as F\n",
    "from torch.utils.data import Dataset, DataLoader, WeightedRandomSampler\n",
    "import albumentations as A\n",
    "from albumentations.pytorch import ToTensorV2\n",
    "from tqdm import tqdm\n",
    "import torchvision.models as models\n",
    "from sklearn.metrics import accuracy_score, precision_score, recall_score, f1_score, confusion_matrix\n",
    "import torchvision.transforms as transforms\n",
    "import cv2\n",
    "import timm\n",
    "import time\n",
    "from tqdm import tqdm\n",
    "from sklearn.metrics import roc_auc_score\n",
    "from torch.optim.lr_scheduler import ReduceLROnPlateau\n",
    "\n",
    "import warnings\n",
    "warnings.filterwarnings(\"ignore\")"
   ]
  },
  {
   "cell_type": "code",
   "execution_count": 2,
   "id": "935d0bbb",
   "metadata": {
    "execution": {
     "iopub.execute_input": "2025-03-08T10:12:14.143353Z",
     "iopub.status.busy": "2025-03-08T10:12:14.143050Z",
     "iopub.status.idle": "2025-03-08T10:12:14.151441Z",
     "shell.execute_reply": "2025-03-08T10:12:14.150856Z"
    },
    "papermill": {
     "duration": 0.012785,
     "end_time": "2025-03-08T10:12:14.152621",
     "exception": false,
     "start_time": "2025-03-08T10:12:14.139836",
     "status": "completed"
    },
    "tags": []
   },
   "outputs": [],
   "source": [
    "def seet_everything(seed=42):\n",
    "    os.environ['PYTHONHASHSEED'] = str(seed)\n",
    "    np.random.seed(seed)\n",
    "    torch.manual_seed(seed)\n",
    "    torch.cuda.manual_seed(seed)\n",
    "    torch.backends.cudnn.deterministic = True\n",
    "seet_everything()"
   ]
  },
  {
   "cell_type": "code",
   "execution_count": 3,
   "id": "f6d5b83c",
   "metadata": {
    "execution": {
     "iopub.execute_input": "2025-03-08T10:12:14.158277Z",
     "iopub.status.busy": "2025-03-08T10:12:14.158073Z",
     "iopub.status.idle": "2025-03-08T10:12:14.162620Z",
     "shell.execute_reply": "2025-03-08T10:12:14.162050Z"
    },
    "papermill": {
     "duration": 0.008635,
     "end_time": "2025-03-08T10:12:14.163733",
     "exception": false,
     "start_time": "2025-03-08T10:12:14.155098",
     "status": "completed"
    },
    "tags": []
   },
   "outputs": [],
   "source": [
    "class MelanomaDataset(Dataset):\n",
    "    def __init__(self, df: pd.DataFrame, imfolder: str, train: bool = True, transforms = None):\n",
    "        \"\"\"\n",
    "        Class initialization\n",
    "        Args:\n",
    "            df (pd.DataFrame): DataFrame with data description\n",
    "            imfolder (str): folder with images\n",
    "            train (bool): flag of whether a training dataset is being initialized or testing one\n",
    "            transforms: image transformation method to be applied            \n",
    "        \"\"\"\n",
    "        self.df = df\n",
    "        self.imfolder = imfolder\n",
    "        self.transforms = transforms\n",
    "        self.train = train\n",
    "        \n",
    "    def __getitem__(self, index):\n",
    "        im_path = os.path.join(self.imfolder, self.df.iloc[index]['image_name'] + '.jpg')\n",
    "        x = cv2.imread(im_path)\n",
    "\n",
    "        if self.transforms:\n",
    "            x = self.transforms(image = x)\n",
    "            \n",
    "        if self.train:\n",
    "            y = self.df.iloc[index]['target']\n",
    "            return x['image'], y\n",
    "        else:\n",
    "            return x['image']\n",
    "    \n",
    "    def __len__(self):\n",
    "        return len(self.df)"
   ]
  },
  {
   "cell_type": "code",
   "execution_count": 4,
   "id": "8a47f78b",
   "metadata": {
    "execution": {
     "iopub.execute_input": "2025-03-08T10:12:14.169370Z",
     "iopub.status.busy": "2025-03-08T10:12:14.169176Z",
     "iopub.status.idle": "2025-03-08T10:12:14.171901Z",
     "shell.execute_reply": "2025-03-08T10:12:14.171335Z"
    },
    "papermill": {
     "duration": 0.006707,
     "end_time": "2025-03-08T10:12:14.173008",
     "exception": false,
     "start_time": "2025-03-08T10:12:14.166301",
     "status": "completed"
    },
    "tags": []
   },
   "outputs": [],
   "source": [
    "LR    = 4e-5\n",
    "H     = 224\n",
    "W     = 224\n",
    "INFERENCE   = False"
   ]
  },
  {
   "cell_type": "code",
   "execution_count": 5,
   "id": "7d9987a8",
   "metadata": {
    "execution": {
     "iopub.execute_input": "2025-03-08T10:12:14.178643Z",
     "iopub.status.busy": "2025-03-08T10:12:14.178421Z",
     "iopub.status.idle": "2025-03-08T10:12:14.285404Z",
     "shell.execute_reply": "2025-03-08T10:12:14.284422Z"
    },
    "papermill": {
     "duration": 0.111412,
     "end_time": "2025-03-08T10:12:14.286947",
     "exception": false,
     "start_time": "2025-03-08T10:12:14.175535",
     "status": "completed"
    },
    "tags": []
   },
   "outputs": [],
   "source": [
    "train_df = pd.read_csv('/kaggle/input/siim-isic-melanoma-classification/train.csv')\n",
    "test_df = pd.read_csv('/kaggle/input/siim-isic-melanoma-classification/test.csv')"
   ]
  },
  {
   "cell_type": "code",
   "execution_count": 6,
   "id": "20a79ac1",
   "metadata": {
    "execution": {
     "iopub.execute_input": "2025-03-08T10:12:14.293609Z",
     "iopub.status.busy": "2025-03-08T10:12:14.293364Z",
     "iopub.status.idle": "2025-03-08T10:12:14.337067Z",
     "shell.execute_reply": "2025-03-08T10:12:14.336238Z"
    },
    "papermill": {
     "duration": 0.048314,
     "end_time": "2025-03-08T10:12:14.338418",
     "exception": false,
     "start_time": "2025-03-08T10:12:14.290104",
     "status": "completed"
    },
    "tags": []
   },
   "outputs": [],
   "source": [
    "from sklearn.model_selection import train_test_split\n",
    "X_train, X_test, _, _ = train_test_split(train_df, train_df.target,\n",
    "                                                    stratify=train_df.target, \n",
    "                                                    test_size=0.2)"
   ]
  },
  {
   "cell_type": "code",
   "execution_count": 7,
   "id": "a147d1f9",
   "metadata": {
    "execution": {
     "iopub.execute_input": "2025-03-08T10:12:14.344346Z",
     "iopub.status.busy": "2025-03-08T10:12:14.344107Z",
     "iopub.status.idle": "2025-03-08T10:12:14.350590Z",
     "shell.execute_reply": "2025-03-08T10:12:14.349820Z"
    },
    "papermill": {
     "duration": 0.010661,
     "end_time": "2025-03-08T10:12:14.351743",
     "exception": false,
     "start_time": "2025-03-08T10:12:14.341082",
     "status": "completed"
    },
    "tags": []
   },
   "outputs": [],
   "source": [
    "normalize = A.Normalize(mean=[0.5, 0.5, 0.5],\n",
    "            std=[0.5, 0.5, 0.5], max_pixel_value=255.0)  #imagenet values\n",
    "\n",
    "train_transform = A.Compose(\n",
    "    [\n",
    "        A.HorizontalFlip(p=0.5),\n",
    "        A.VerticalFlip(p=0.5),\n",
    "        A.Resize(H,W),\n",
    "        normalize,\n",
    "        ToTensorV2(),\n",
    "    ],\n",
    ")\n",
    "\n",
    "val_transforms = A.Compose(\n",
    "    [\n",
    "        A.Resize(H,W),\n",
    "        normalize,\n",
    "        ToTensorV2(),\n",
    "    ],\n",
    ")"
   ]
  },
  {
   "cell_type": "code",
   "execution_count": 8,
   "id": "18b377b5",
   "metadata": {
    "execution": {
     "iopub.execute_input": "2025-03-08T10:12:14.357642Z",
     "iopub.status.busy": "2025-03-08T10:12:14.357413Z",
     "iopub.status.idle": "2025-03-08T10:12:14.377245Z",
     "shell.execute_reply": "2025-03-08T10:12:14.376479Z"
    },
    "papermill": {
     "duration": 0.023992,
     "end_time": "2025-03-08T10:12:14.378387",
     "exception": false,
     "start_time": "2025-03-08T10:12:14.354395",
     "status": "completed"
    },
    "tags": []
   },
   "outputs": [
    {
     "data": {
      "text/html": [
       "<div>\n",
       "<style scoped>\n",
       "    .dataframe tbody tr th:only-of-type {\n",
       "        vertical-align: middle;\n",
       "    }\n",
       "\n",
       "    .dataframe tbody tr th {\n",
       "        vertical-align: top;\n",
       "    }\n",
       "\n",
       "    .dataframe thead th {\n",
       "        text-align: right;\n",
       "    }\n",
       "</style>\n",
       "<table border=\"1\" class=\"dataframe\">\n",
       "  <thead>\n",
       "    <tr style=\"text-align: right;\">\n",
       "      <th></th>\n",
       "      <th>image_name</th>\n",
       "      <th>patient_id</th>\n",
       "      <th>sex</th>\n",
       "      <th>age_approx</th>\n",
       "      <th>anatom_site_general_challenge</th>\n",
       "      <th>diagnosis</th>\n",
       "      <th>benign_malignant</th>\n",
       "      <th>target</th>\n",
       "    </tr>\n",
       "  </thead>\n",
       "  <tbody>\n",
       "    <tr>\n",
       "      <th>4410</th>\n",
       "      <td>ISIC_1429439</td>\n",
       "      <td>IP_8140841</td>\n",
       "      <td>male</td>\n",
       "      <td>75.0</td>\n",
       "      <td>upper extremity</td>\n",
       "      <td>unknown</td>\n",
       "      <td>benign</td>\n",
       "      <td>0</td>\n",
       "    </tr>\n",
       "    <tr>\n",
       "      <th>1861</th>\n",
       "      <td>ISIC_0658963</td>\n",
       "      <td>IP_1870306</td>\n",
       "      <td>male</td>\n",
       "      <td>75.0</td>\n",
       "      <td>torso</td>\n",
       "      <td>unknown</td>\n",
       "      <td>benign</td>\n",
       "      <td>0</td>\n",
       "    </tr>\n",
       "    <tr>\n",
       "      <th>24570</th>\n",
       "      <td>ISIC_7459410</td>\n",
       "      <td>IP_3722746</td>\n",
       "      <td>male</td>\n",
       "      <td>50.0</td>\n",
       "      <td>torso</td>\n",
       "      <td>nevus</td>\n",
       "      <td>benign</td>\n",
       "      <td>0</td>\n",
       "    </tr>\n",
       "    <tr>\n",
       "      <th>23914</th>\n",
       "      <td>ISIC_7261174</td>\n",
       "      <td>IP_8041141</td>\n",
       "      <td>female</td>\n",
       "      <td>15.0</td>\n",
       "      <td>head/neck</td>\n",
       "      <td>melanoma</td>\n",
       "      <td>malignant</td>\n",
       "      <td>1</td>\n",
       "    </tr>\n",
       "    <tr>\n",
       "      <th>3387</th>\n",
       "      <td>ISIC_1124744</td>\n",
       "      <td>IP_2610032</td>\n",
       "      <td>male</td>\n",
       "      <td>40.0</td>\n",
       "      <td>upper extremity</td>\n",
       "      <td>nevus</td>\n",
       "      <td>benign</td>\n",
       "      <td>0</td>\n",
       "    </tr>\n",
       "    <tr>\n",
       "      <th>...</th>\n",
       "      <td>...</td>\n",
       "      <td>...</td>\n",
       "      <td>...</td>\n",
       "      <td>...</td>\n",
       "      <td>...</td>\n",
       "      <td>...</td>\n",
       "      <td>...</td>\n",
       "      <td>...</td>\n",
       "    </tr>\n",
       "    <tr>\n",
       "      <th>6113</th>\n",
       "      <td>ISIC_1929320</td>\n",
       "      <td>IP_3782995</td>\n",
       "      <td>female</td>\n",
       "      <td>25.0</td>\n",
       "      <td>torso</td>\n",
       "      <td>nevus</td>\n",
       "      <td>benign</td>\n",
       "      <td>0</td>\n",
       "    </tr>\n",
       "    <tr>\n",
       "      <th>12486</th>\n",
       "      <td>ISIC_3844983</td>\n",
       "      <td>IP_0825081</td>\n",
       "      <td>male</td>\n",
       "      <td>80.0</td>\n",
       "      <td>lower extremity</td>\n",
       "      <td>unknown</td>\n",
       "      <td>benign</td>\n",
       "      <td>0</td>\n",
       "    </tr>\n",
       "    <tr>\n",
       "      <th>17599</th>\n",
       "      <td>ISIC_5366635</td>\n",
       "      <td>IP_7770083</td>\n",
       "      <td>female</td>\n",
       "      <td>45.0</td>\n",
       "      <td>NaN</td>\n",
       "      <td>unknown</td>\n",
       "      <td>benign</td>\n",
       "      <td>0</td>\n",
       "    </tr>\n",
       "    <tr>\n",
       "      <th>16768</th>\n",
       "      <td>ISIC_5130558</td>\n",
       "      <td>IP_6078411</td>\n",
       "      <td>male</td>\n",
       "      <td>35.0</td>\n",
       "      <td>torso</td>\n",
       "      <td>unknown</td>\n",
       "      <td>benign</td>\n",
       "      <td>0</td>\n",
       "    </tr>\n",
       "    <tr>\n",
       "      <th>31778</th>\n",
       "      <td>ISIC_9602122</td>\n",
       "      <td>IP_1676499</td>\n",
       "      <td>female</td>\n",
       "      <td>30.0</td>\n",
       "      <td>lower extremity</td>\n",
       "      <td>unknown</td>\n",
       "      <td>benign</td>\n",
       "      <td>0</td>\n",
       "    </tr>\n",
       "  </tbody>\n",
       "</table>\n",
       "<p>26500 rows × 8 columns</p>\n",
       "</div>"
      ],
      "text/plain": [
       "         image_name  patient_id     sex  age_approx  \\\n",
       "4410   ISIC_1429439  IP_8140841    male        75.0   \n",
       "1861   ISIC_0658963  IP_1870306    male        75.0   \n",
       "24570  ISIC_7459410  IP_3722746    male        50.0   \n",
       "23914  ISIC_7261174  IP_8041141  female        15.0   \n",
       "3387   ISIC_1124744  IP_2610032    male        40.0   \n",
       "...             ...         ...     ...         ...   \n",
       "6113   ISIC_1929320  IP_3782995  female        25.0   \n",
       "12486  ISIC_3844983  IP_0825081    male        80.0   \n",
       "17599  ISIC_5366635  IP_7770083  female        45.0   \n",
       "16768  ISIC_5130558  IP_6078411    male        35.0   \n",
       "31778  ISIC_9602122  IP_1676499  female        30.0   \n",
       "\n",
       "      anatom_site_general_challenge diagnosis benign_malignant  target  \n",
       "4410                upper extremity   unknown           benign       0  \n",
       "1861                          torso   unknown           benign       0  \n",
       "24570                         torso     nevus           benign       0  \n",
       "23914                     head/neck  melanoma        malignant       1  \n",
       "3387                upper extremity     nevus           benign       0  \n",
       "...                             ...       ...              ...     ...  \n",
       "6113                          torso     nevus           benign       0  \n",
       "12486               lower extremity   unknown           benign       0  \n",
       "17599                           NaN   unknown           benign       0  \n",
       "16768                         torso   unknown           benign       0  \n",
       "31778               lower extremity   unknown           benign       0  \n",
       "\n",
       "[26500 rows x 8 columns]"
      ]
     },
     "execution_count": 8,
     "metadata": {},
     "output_type": "execute_result"
    }
   ],
   "source": [
    "X_train"
   ]
  },
  {
   "cell_type": "code",
   "execution_count": 9,
   "id": "b8c9bace",
   "metadata": {
    "execution": {
     "iopub.execute_input": "2025-03-08T10:12:14.384664Z",
     "iopub.status.busy": "2025-03-08T10:12:14.384431Z",
     "iopub.status.idle": "2025-03-08T10:12:14.390472Z",
     "shell.execute_reply": "2025-03-08T10:12:14.389715Z"
    },
    "papermill": {
     "duration": 0.010349,
     "end_time": "2025-03-08T10:12:14.391585",
     "exception": false,
     "start_time": "2025-03-08T10:12:14.381236",
     "status": "completed"
    },
    "tags": []
   },
   "outputs": [],
   "source": [
    "train = MelanomaDataset(df=X_train.reset_index(drop=True), \n",
    "                        imfolder='/kaggle/input/siim-isic-melanoma-classification/jpeg/train/', \n",
    "                        train=True, \n",
    "                        transforms=train_transform,)\n",
    "\n",
    "val = MelanomaDataset(df=X_test.reset_index(drop=True), \n",
    "                        imfolder='/kaggle/input/siim-isic-melanoma-classification/jpeg/train/', \n",
    "                        train=True, \n",
    "                        transforms=val_transforms,)\n",
    "\n",
    "test = MelanomaDataset(df=test_df,\n",
    "                       imfolder='/kaggle/input/siim-isic-melanoma-classification/jpeg/test/', \n",
    "                       train=False,\n",
    "                       transforms=val_transforms)\n",
    "\n",
    "train_loader = DataLoader(dataset=train, batch_size=64, shuffle=True, num_workers=2)\n",
    "val_loader = DataLoader(dataset=val, batch_size=16, shuffle=False, num_workers=2)\n",
    "test_loader = DataLoader(dataset=test, batch_size=16, shuffle=False, num_workers=2)"
   ]
  },
  {
   "cell_type": "code",
   "execution_count": 10,
   "id": "d34b9424",
   "metadata": {
    "execution": {
     "iopub.execute_input": "2025-03-08T10:12:14.397959Z",
     "iopub.status.busy": "2025-03-08T10:12:14.397734Z",
     "iopub.status.idle": "2025-03-08T10:12:14.401432Z",
     "shell.execute_reply": "2025-03-08T10:12:14.400677Z"
    },
    "papermill": {
     "duration": 0.008102,
     "end_time": "2025-03-08T10:12:14.402576",
     "exception": false,
     "start_time": "2025-03-08T10:12:14.394474",
     "status": "completed"
    },
    "tags": []
   },
   "outputs": [],
   "source": [
    "class ViTNet(nn.Module):\n",
    "    def __init__(self, num_classes=1):\n",
    "        super(ViTNet, self).__init__()\n",
    "        self.vit = timm.create_model(\"vit_base_patch16_224\", pretrained=True, num_classes=num_classes)\n",
    "\n",
    "    def forward(self, x):\n",
    "        return self.vit(x)"
   ]
  },
  {
   "cell_type": "code",
   "execution_count": 11,
   "id": "baedda0b",
   "metadata": {
    "execution": {
     "iopub.execute_input": "2025-03-08T10:12:14.409078Z",
     "iopub.status.busy": "2025-03-08T10:12:14.408842Z",
     "iopub.status.idle": "2025-03-08T10:12:16.543875Z",
     "shell.execute_reply": "2025-03-08T10:12:16.543008Z"
    },
    "papermill": {
     "duration": 2.139895,
     "end_time": "2025-03-08T10:12:16.545417",
     "exception": false,
     "start_time": "2025-03-08T10:12:14.405522",
     "status": "completed"
    },
    "tags": []
   },
   "outputs": [],
   "source": [
    "from torchmetrics.classification import AUROC\n",
    "criterion = nn.BCEWithLogitsLoss()#AUROC(task=\"binary\")\n"
   ]
  },
  {
   "cell_type": "code",
   "execution_count": 12,
   "id": "623b0b06",
   "metadata": {
    "execution": {
     "iopub.execute_input": "2025-03-08T10:12:16.552894Z",
     "iopub.status.busy": "2025-03-08T10:12:16.552435Z",
     "iopub.status.idle": "2025-03-08T13:48:17.713845Z",
     "shell.execute_reply": "2025-03-08T13:48:17.712751Z"
    },
    "papermill": {
     "duration": 12961.300533,
     "end_time": "2025-03-08T13:48:17.849212",
     "exception": false,
     "start_time": "2025-03-08T10:12:16.548679",
     "status": "completed"
    },
    "tags": []
   },
   "outputs": [
    {
     "data": {
      "application/vnd.jupyter.widget-view+json": {
       "model_id": "6b0d325d27034d6a9c978593e464be2a",
       "version_major": 2,
       "version_minor": 0
      },
      "text/plain": [
       "model.safetensors:   0%|          | 0.00/346M [00:00<?, ?B/s]"
      ]
     },
     "metadata": {},
     "output_type": "display_data"
    },
    {
     "name": "stderr",
     "output_type": "stream",
     "text": [
      "100%|██████████| 415/415 [27:38<00:00,  4.00s/it]\n"
     ]
    },
    {
     "name": "stdout",
     "output_type": "stream",
     "text": [
      "Epoch 001: | Loss: 54.800 | Train acc: 0.979 | Val roc_auc: 0.793 \n"
     ]
    },
    {
     "name": "stderr",
     "output_type": "stream",
     "text": [
      "100%|██████████| 415/415 [26:06<00:00,  3.77s/it]\n"
     ]
    },
    {
     "name": "stdout",
     "output_type": "stream",
     "text": [
      "Epoch 002: | Loss: 34.582 | Train acc: 0.982 | Val roc_auc: 0.803 \n"
     ]
    },
    {
     "name": "stderr",
     "output_type": "stream",
     "text": [
      "100%|██████████| 415/415 [25:19<00:00,  3.66s/it]\n"
     ]
    },
    {
     "name": "stdout",
     "output_type": "stream",
     "text": [
      "Epoch 003: | Loss: 34.061 | Train acc: 0.982 | Val roc_auc: 0.797 \n"
     ]
    },
    {
     "name": "stderr",
     "output_type": "stream",
     "text": [
      "100%|██████████| 415/415 [24:31<00:00,  3.55s/it]\n"
     ]
    },
    {
     "name": "stdout",
     "output_type": "stream",
     "text": [
      "Epoch 004: | Loss: 33.963 | Train acc: 0.982 | Val roc_auc: 0.805 \n"
     ]
    },
    {
     "name": "stderr",
     "output_type": "stream",
     "text": [
      "100%|██████████| 415/415 [24:49<00:00,  3.59s/it]\n"
     ]
    },
    {
     "name": "stdout",
     "output_type": "stream",
     "text": [
      "Epoch 005: | Loss: 34.061 | Train acc: 0.982 | Val roc_auc: 0.798 \n"
     ]
    },
    {
     "name": "stderr",
     "output_type": "stream",
     "text": [
      "100%|██████████| 415/415 [24:22<00:00,  3.52s/it]\n"
     ]
    },
    {
     "name": "stdout",
     "output_type": "stream",
     "text": [
      "Epoch 006: | Loss: 34.294 | Train acc: 0.982 | Val roc_auc: 0.795 \n"
     ]
    },
    {
     "name": "stderr",
     "output_type": "stream",
     "text": [
      "100%|██████████| 415/415 [24:38<00:00,  3.56s/it]\n"
     ]
    },
    {
     "name": "stdout",
     "output_type": "stream",
     "text": [
      "Epoch 007: | Loss: 32.746 | Train acc: 0.982 | Val roc_auc: 0.802 \n",
      "Early stopping. Best Val roc_auc: 0.805\n"
     ]
    }
   ],
   "source": [
    "model     = ViTNet().to('cuda')\n",
    "device = 'cuda'\n",
    "optim = torch.optim.Adam(model.parameters(), lr=0.001)\n",
    "epochs = 20  # Number of epochs to run\n",
    "es_patience = 3  # Early Stopping patience - for how many epochs with no improvements to wait\n",
    "scheduler = ReduceLROnPlateau(optimizer=optim, mode='max', patience=1, verbose=True, factor=0.2)\n",
    "best_val = 0\n",
    "model_path = 'model_skin_safe.pth' \n",
    "\n",
    "for epoch in range(epochs):\n",
    "    correct = 0\n",
    "    epoch_loss = 0\n",
    "    model.train()\n",
    "    \n",
    "    for x, y in tqdm(train_loader):\n",
    "        x = torch.tensor(x, device=device, dtype=torch.float32)\n",
    "        y = torch.tensor(y, device=device, dtype=torch.float32)\n",
    "        optim.zero_grad()\n",
    "        z = model(x)\n",
    "        loss = criterion(z, y.unsqueeze(1))\n",
    "        loss.backward()\n",
    "        optim.step()\n",
    "        pred = torch.round(torch.sigmoid(z))  # round off sigmoid to obtain predictions\n",
    "        correct += (pred.cpu() == y.cpu().unsqueeze(1)).sum().item()  # tracking number of correctly predicted samples\n",
    "        epoch_loss += loss.item()\n",
    "        \n",
    "    train_acc = correct / len(train)\n",
    "    \n",
    "    model.eval()  # switch model to the evaluation mode\n",
    "    val_preds = torch.zeros((len(X_test), 1), dtype=torch.float32, device=device)\n",
    "    with torch.no_grad():  # Do not calculate gradient since we are only predicting\n",
    "        # Predicting on validation set\n",
    "        for j, (x_val, y_val) in enumerate(val_loader):\n",
    "            x_val = torch.tensor(x_val, device=device, dtype=torch.float32)\n",
    "            y_val = torch.tensor(y_val, device=device, dtype=torch.float32)\n",
    "            z_val = model(x_val)\n",
    "            val_pred = torch.sigmoid(z_val)\n",
    "            val_preds[j*val_loader.batch_size:j*val_loader.batch_size + x_val.shape[0]] = val_pred\n",
    "        val_roc = roc_auc_score(X_test['target'].values, val_preds.cpu())\n",
    "        \n",
    "        print('Epoch {:03}: | Loss: {:.3f} | Train acc: {:.3f} | Val roc_auc: {:.3f} '.format(\n",
    "        epoch + 1, \n",
    "        epoch_loss, \n",
    "        train_acc, \n",
    "        val_roc))\n",
    "        \n",
    "        scheduler.step(val_roc)\n",
    "            \n",
    "        if val_roc >= best_val:\n",
    "            best_val = val_roc\n",
    "            patience = es_patience  # Resetting patience since we have new best validation accuracy\n",
    "            torch.save(model, model_path)  # Saving current best model\n",
    "        else:\n",
    "            patience -= 1\n",
    "            if patience == 0:\n",
    "                print('Early stopping. Best Val roc_auc: {:.3f}'.format(best_val))\n",
    "                break    "
   ]
  },
  {
   "cell_type": "code",
   "execution_count": null,
   "id": "dc37f679",
   "metadata": {
    "papermill": {
     "duration": 0.133046,
     "end_time": "2025-03-08T13:48:18.115298",
     "exception": false,
     "start_time": "2025-03-08T13:48:17.982252",
     "status": "completed"
    },
    "tags": []
   },
   "outputs": [],
   "source": []
  }
 ],
 "metadata": {
  "kaggle": {
   "accelerator": "gpu",
   "dataSources": [
    {
     "databundleVersionId": 1222630,
     "sourceId": 20270,
     "sourceType": "competition"
    }
   ],
   "dockerImageVersionId": 30919,
   "isGpuEnabled": true,
   "isInternetEnabled": true,
   "language": "python",
   "sourceType": "notebook"
  },
  "kernelspec": {
   "display_name": "Python 3",
   "language": "python",
   "name": "python3"
  },
  "language_info": {
   "codemirror_mode": {
    "name": "ipython",
    "version": 3
   },
   "file_extension": ".py",
   "mimetype": "text/x-python",
   "name": "python",
   "nbconvert_exporter": "python",
   "pygments_lexer": "ipython3",
   "version": "3.10.12"
  },
  "papermill": {
   "default_parameters": {},
   "duration": 12982.303171,
   "end_time": "2025-03-08T13:48:21.179208",
   "environment_variables": {},
   "exception": null,
   "input_path": "__notebook__.ipynb",
   "output_path": "__notebook__.ipynb",
   "parameters": {},
   "start_time": "2025-03-08T10:11:58.876037",
   "version": "2.6.0"
  },
  "widgets": {
   "application/vnd.jupyter.widget-state+json": {
    "state": {
     "0863867092a548d98e399064635cfa2e": {
      "model_module": "@jupyter-widgets/controls",
      "model_module_version": "2.0.0",
      "model_name": "FloatProgressModel",
      "state": {
       "_dom_classes": [],
       "_model_module": "@jupyter-widgets/controls",
       "_model_module_version": "2.0.0",
       "_model_name": "FloatProgressModel",
       "_view_count": null,
       "_view_module": "@jupyter-widgets/controls",
       "_view_module_version": "2.0.0",
       "_view_name": "ProgressView",
       "bar_style": "success",
       "description": "",
       "description_allow_html": false,
       "layout": "IPY_MODEL_f1a3ba44cfda4f9c855ab7c78508da0c",
       "max": 346284714.0,
       "min": 0.0,
       "orientation": "horizontal",
       "style": "IPY_MODEL_784474415bb145c18dceb84bde115f48",
       "tabbable": null,
       "tooltip": null,
       "value": 346284714.0
      }
     },
     "118987c27cb64d3fbfc8f92864deddb0": {
      "model_module": "@jupyter-widgets/base",
      "model_module_version": "2.0.0",
      "model_name": "LayoutModel",
      "state": {
       "_model_module": "@jupyter-widgets/base",
       "_model_module_version": "2.0.0",
       "_model_name": "LayoutModel",
       "_view_count": null,
       "_view_module": "@jupyter-widgets/base",
       "_view_module_version": "2.0.0",
       "_view_name": "LayoutView",
       "align_content": null,
       "align_items": null,
       "align_self": null,
       "border_bottom": null,
       "border_left": null,
       "border_right": null,
       "border_top": null,
       "bottom": null,
       "display": null,
       "flex": null,
       "flex_flow": null,
       "grid_area": null,
       "grid_auto_columns": null,
       "grid_auto_flow": null,
       "grid_auto_rows": null,
       "grid_column": null,
       "grid_gap": null,
       "grid_row": null,
       "grid_template_areas": null,
       "grid_template_columns": null,
       "grid_template_rows": null,
       "height": null,
       "justify_content": null,
       "justify_items": null,
       "left": null,
       "margin": null,
       "max_height": null,
       "max_width": null,
       "min_height": null,
       "min_width": null,
       "object_fit": null,
       "object_position": null,
       "order": null,
       "overflow": null,
       "padding": null,
       "right": null,
       "top": null,
       "visibility": null,
       "width": null
      }
     },
     "6b0d325d27034d6a9c978593e464be2a": {
      "model_module": "@jupyter-widgets/controls",
      "model_module_version": "2.0.0",
      "model_name": "HBoxModel",
      "state": {
       "_dom_classes": [],
       "_model_module": "@jupyter-widgets/controls",
       "_model_module_version": "2.0.0",
       "_model_name": "HBoxModel",
       "_view_count": null,
       "_view_module": "@jupyter-widgets/controls",
       "_view_module_version": "2.0.0",
       "_view_name": "HBoxView",
       "box_style": "",
       "children": [
        "IPY_MODEL_e1f8a9250342480fb103d490dbf8ed51",
        "IPY_MODEL_0863867092a548d98e399064635cfa2e",
        "IPY_MODEL_fd0b458d3b1a4de2ab6ef3dcde3e1125"
       ],
       "layout": "IPY_MODEL_ce0a8fdfdbff4cd0ac0c3d1c2d3260d4",
       "tabbable": null,
       "tooltip": null
      }
     },
     "784474415bb145c18dceb84bde115f48": {
      "model_module": "@jupyter-widgets/controls",
      "model_module_version": "2.0.0",
      "model_name": "ProgressStyleModel",
      "state": {
       "_model_module": "@jupyter-widgets/controls",
       "_model_module_version": "2.0.0",
       "_model_name": "ProgressStyleModel",
       "_view_count": null,
       "_view_module": "@jupyter-widgets/base",
       "_view_module_version": "2.0.0",
       "_view_name": "StyleView",
       "bar_color": null,
       "description_width": ""
      }
     },
     "916dc9c69aa84a6086c58a5f47ecda12": {
      "model_module": "@jupyter-widgets/base",
      "model_module_version": "2.0.0",
      "model_name": "LayoutModel",
      "state": {
       "_model_module": "@jupyter-widgets/base",
       "_model_module_version": "2.0.0",
       "_model_name": "LayoutModel",
       "_view_count": null,
       "_view_module": "@jupyter-widgets/base",
       "_view_module_version": "2.0.0",
       "_view_name": "LayoutView",
       "align_content": null,
       "align_items": null,
       "align_self": null,
       "border_bottom": null,
       "border_left": null,
       "border_right": null,
       "border_top": null,
       "bottom": null,
       "display": null,
       "flex": null,
       "flex_flow": null,
       "grid_area": null,
       "grid_auto_columns": null,
       "grid_auto_flow": null,
       "grid_auto_rows": null,
       "grid_column": null,
       "grid_gap": null,
       "grid_row": null,
       "grid_template_areas": null,
       "grid_template_columns": null,
       "grid_template_rows": null,
       "height": null,
       "justify_content": null,
       "justify_items": null,
       "left": null,
       "margin": null,
       "max_height": null,
       "max_width": null,
       "min_height": null,
       "min_width": null,
       "object_fit": null,
       "object_position": null,
       "order": null,
       "overflow": null,
       "padding": null,
       "right": null,
       "top": null,
       "visibility": null,
       "width": null
      }
     },
     "9303bd5945fb4f589f698c607edeb0c8": {
      "model_module": "@jupyter-widgets/controls",
      "model_module_version": "2.0.0",
      "model_name": "HTMLStyleModel",
      "state": {
       "_model_module": "@jupyter-widgets/controls",
       "_model_module_version": "2.0.0",
       "_model_name": "HTMLStyleModel",
       "_view_count": null,
       "_view_module": "@jupyter-widgets/base",
       "_view_module_version": "2.0.0",
       "_view_name": "StyleView",
       "background": null,
       "description_width": "",
       "font_size": null,
       "text_color": null
      }
     },
     "af0bff9bdf18474d9d71e141a34761d2": {
      "model_module": "@jupyter-widgets/controls",
      "model_module_version": "2.0.0",
      "model_name": "HTMLStyleModel",
      "state": {
       "_model_module": "@jupyter-widgets/controls",
       "_model_module_version": "2.0.0",
       "_model_name": "HTMLStyleModel",
       "_view_count": null,
       "_view_module": "@jupyter-widgets/base",
       "_view_module_version": "2.0.0",
       "_view_name": "StyleView",
       "background": null,
       "description_width": "",
       "font_size": null,
       "text_color": null
      }
     },
     "ce0a8fdfdbff4cd0ac0c3d1c2d3260d4": {
      "model_module": "@jupyter-widgets/base",
      "model_module_version": "2.0.0",
      "model_name": "LayoutModel",
      "state": {
       "_model_module": "@jupyter-widgets/base",
       "_model_module_version": "2.0.0",
       "_model_name": "LayoutModel",
       "_view_count": null,
       "_view_module": "@jupyter-widgets/base",
       "_view_module_version": "2.0.0",
       "_view_name": "LayoutView",
       "align_content": null,
       "align_items": null,
       "align_self": null,
       "border_bottom": null,
       "border_left": null,
       "border_right": null,
       "border_top": null,
       "bottom": null,
       "display": null,
       "flex": null,
       "flex_flow": null,
       "grid_area": null,
       "grid_auto_columns": null,
       "grid_auto_flow": null,
       "grid_auto_rows": null,
       "grid_column": null,
       "grid_gap": null,
       "grid_row": null,
       "grid_template_areas": null,
       "grid_template_columns": null,
       "grid_template_rows": null,
       "height": null,
       "justify_content": null,
       "justify_items": null,
       "left": null,
       "margin": null,
       "max_height": null,
       "max_width": null,
       "min_height": null,
       "min_width": null,
       "object_fit": null,
       "object_position": null,
       "order": null,
       "overflow": null,
       "padding": null,
       "right": null,
       "top": null,
       "visibility": null,
       "width": null
      }
     },
     "e1f8a9250342480fb103d490dbf8ed51": {
      "model_module": "@jupyter-widgets/controls",
      "model_module_version": "2.0.0",
      "model_name": "HTMLModel",
      "state": {
       "_dom_classes": [],
       "_model_module": "@jupyter-widgets/controls",
       "_model_module_version": "2.0.0",
       "_model_name": "HTMLModel",
       "_view_count": null,
       "_view_module": "@jupyter-widgets/controls",
       "_view_module_version": "2.0.0",
       "_view_name": "HTMLView",
       "description": "",
       "description_allow_html": false,
       "layout": "IPY_MODEL_916dc9c69aa84a6086c58a5f47ecda12",
       "placeholder": "​",
       "style": "IPY_MODEL_9303bd5945fb4f589f698c607edeb0c8",
       "tabbable": null,
       "tooltip": null,
       "value": "model.safetensors: 100%"
      }
     },
     "f1a3ba44cfda4f9c855ab7c78508da0c": {
      "model_module": "@jupyter-widgets/base",
      "model_module_version": "2.0.0",
      "model_name": "LayoutModel",
      "state": {
       "_model_module": "@jupyter-widgets/base",
       "_model_module_version": "2.0.0",
       "_model_name": "LayoutModel",
       "_view_count": null,
       "_view_module": "@jupyter-widgets/base",
       "_view_module_version": "2.0.0",
       "_view_name": "LayoutView",
       "align_content": null,
       "align_items": null,
       "align_self": null,
       "border_bottom": null,
       "border_left": null,
       "border_right": null,
       "border_top": null,
       "bottom": null,
       "display": null,
       "flex": null,
       "flex_flow": null,
       "grid_area": null,
       "grid_auto_columns": null,
       "grid_auto_flow": null,
       "grid_auto_rows": null,
       "grid_column": null,
       "grid_gap": null,
       "grid_row": null,
       "grid_template_areas": null,
       "grid_template_columns": null,
       "grid_template_rows": null,
       "height": null,
       "justify_content": null,
       "justify_items": null,
       "left": null,
       "margin": null,
       "max_height": null,
       "max_width": null,
       "min_height": null,
       "min_width": null,
       "object_fit": null,
       "object_position": null,
       "order": null,
       "overflow": null,
       "padding": null,
       "right": null,
       "top": null,
       "visibility": null,
       "width": null
      }
     },
     "fd0b458d3b1a4de2ab6ef3dcde3e1125": {
      "model_module": "@jupyter-widgets/controls",
      "model_module_version": "2.0.0",
      "model_name": "HTMLModel",
      "state": {
       "_dom_classes": [],
       "_model_module": "@jupyter-widgets/controls",
       "_model_module_version": "2.0.0",
       "_model_name": "HTMLModel",
       "_view_count": null,
       "_view_module": "@jupyter-widgets/controls",
       "_view_module_version": "2.0.0",
       "_view_name": "HTMLView",
       "description": "",
       "description_allow_html": false,
       "layout": "IPY_MODEL_118987c27cb64d3fbfc8f92864deddb0",
       "placeholder": "​",
       "style": "IPY_MODEL_af0bff9bdf18474d9d71e141a34761d2",
       "tabbable": null,
       "tooltip": null,
       "value": " 346M/346M [00:01&lt;00:00, 216MB/s]"
      }
     }
    },
    "version_major": 2,
    "version_minor": 0
   }
  }
 },
 "nbformat": 4,
 "nbformat_minor": 5
}
