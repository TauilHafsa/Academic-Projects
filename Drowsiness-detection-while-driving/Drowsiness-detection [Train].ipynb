{
 "cells": [
  {
   "cell_type": "markdown",
   "id": "3f716b2f",
   "metadata": {
    "papermill": {
     "duration": 0.015147,
     "end_time": "2022-08-28T01:06:06.064550",
     "exception": false,
     "start_time": "2022-08-28T01:06:06.049403",
     "status": "completed"
    },
    "tags": []
   },
   "source": [
    "# **Load all dependencies we need¶**"
   ]
  },
  {
   "cell_type": "code",
   "execution_count": 1,
   "id": "a2e90772",
   "metadata": {
    "execution": {
     "iopub.execute_input": "2022-08-28T01:06:06.093931Z",
     "iopub.status.busy": "2022-08-28T01:06:06.093246Z",
     "iopub.status.idle": "2022-08-28T01:06:20.759753Z",
     "shell.execute_reply": "2022-08-28T01:06:20.758975Z"
    },
    "papermill": {
     "duration": 14.683807,
     "end_time": "2022-08-28T01:06:20.762026",
     "exception": false,
     "start_time": "2022-08-28T01:06:06.078219",
     "status": "completed"
    },
    "tags": []
   },
   "outputs": [
    {
     "name": "stdout",
     "output_type": "stream",
     "text": [
      "Collecting efficientnet_pytorch\r\n",
      "  Downloading efficientnet_pytorch-0.7.1.tar.gz (21 kB)\r\n",
      "  Preparing metadata (setup.py) ... \u001b[?25l-\b \bdone\r\n",
      "\u001b[?25hRequirement already satisfied: torch in /opt/conda/lib/python3.7/site-packages (from efficientnet_pytorch) (1.11.0)\r\n",
      "Requirement already satisfied: typing-extensions in /opt/conda/lib/python3.7/site-packages (from torch->efficientnet_pytorch) (4.2.0)\r\n",
      "Building wheels for collected packages: efficientnet_pytorch\r\n",
      "  Building wheel for efficientnet_pytorch (setup.py) ... \u001b[?25l-\b \b\\\b \bdone\r\n",
      "\u001b[?25h  Created wheel for efficientnet_pytorch: filename=efficientnet_pytorch-0.7.1-py3-none-any.whl size=16446 sha256=de74309c4ce7f16ba2d31fc0099bb14287c8bfb8946bbddd3bb4ff7b79905938\r\n",
      "  Stored in directory: /root/.cache/pip/wheels/0e/cc/b2/49e74588263573ff778da58cc99b9c6349b496636a7e165be6\r\n",
      "Successfully built efficientnet_pytorch\r\n",
      "Installing collected packages: efficientnet_pytorch\r\n",
      "Successfully installed efficientnet_pytorch-0.7.1\r\n",
      "\u001b[33mWARNING: Running pip as the 'root' user can result in broken permissions and conflicting behaviour with the system package manager. It is recommended to use a virtual environment instead: https://pip.pypa.io/warnings/venv\u001b[0m\u001b[33m\r\n",
      "\u001b[0m"
     ]
    }
   ],
   "source": [
    "!pip install efficientnet_pytorch # bc we will use efficientnet_pytorch to import EfficientNet and use it in our model.\n",
    "\n",
    "import os # provides functions for iteractions with operation system\n",
    "from tqdm import tqdm # To show progress maters or progress bars\n",
    "import matplotlib.pyplot as plt # To plot the images\n",
    "from PIL import Image\n",
    "import torch #Framework that we will use\n",
    "from torch import nn # PyTorch provides the torch.nn module to help us in creating and training of the neural network\n",
    "from torch import optim #package implementing various optimization algorithms.\n",
    "from torch.utils.data import Dataset #to create our dataset.\n",
    "from torch.utils.data import DataLoader #to create mini batch sizes.\n",
    "import torchvision.transforms as T#to make all the images in the same size.\n",
    "import numpy as np # linear algebra\n",
    "from efficientnet_pytorch import EfficientNet # To transfer learnig"
   ]
  },
  {
   "cell_type": "markdown",
   "id": "b5fe27bf",
   "metadata": {
    "papermill": {
     "duration": 0.016156,
     "end_time": "2022-08-28T01:06:20.795398",
     "exception": false,
     "start_time": "2022-08-28T01:06:20.779242",
     "status": "completed"
    },
    "tags": []
   },
   "source": [
    "Let's seed everything to make results somewhat reproducible"
   ]
  },
  {
   "cell_type": "code",
   "execution_count": 2,
   "id": "442ab2c7",
   "metadata": {
    "execution": {
     "iopub.execute_input": "2022-08-28T01:06:20.829494Z",
     "iopub.status.busy": "2022-08-28T01:06:20.829229Z",
     "iopub.status.idle": "2022-08-28T01:06:20.833934Z",
     "shell.execute_reply": "2022-08-28T01:06:20.833235Z"
    },
    "papermill": {
     "duration": 0.024091,
     "end_time": "2022-08-28T01:06:20.835989",
     "exception": false,
     "start_time": "2022-08-28T01:06:20.811898",
     "status": "completed"
    },
    "tags": []
   },
   "outputs": [],
   "source": [
    "def seed_everything(seed: int):\n",
    "    os.environ[\"PYTHONHASHSEED\"] = str(seed)\n",
    "    np.random.seed(seed)\n",
    "    torch.manual_seed(seed)\n",
    "    torch.cuda.manual_seed(seed)\n",
    "    torch.backends.cudnn.deterministic = True\n",
    "    torch.backends.cudnn.benchmark = True"
   ]
  },
  {
   "cell_type": "markdown",
   "id": "9823b749",
   "metadata": {
    "papermill": {
     "duration": 0.016387,
     "end_time": "2022-08-28T01:06:20.868532",
     "exception": false,
     "start_time": "2022-08-28T01:06:20.852145",
     "status": "completed"
    },
    "tags": []
   },
   "source": [
    "# Dataset"
   ]
  },
  {
   "cell_type": "code",
   "execution_count": 3,
   "id": "b8cd168d",
   "metadata": {
    "execution": {
     "iopub.execute_input": "2022-08-28T01:06:20.903276Z",
     "iopub.status.busy": "2022-08-28T01:06:20.903036Z",
     "iopub.status.idle": "2022-08-28T01:06:20.911707Z",
     "shell.execute_reply": "2022-08-28T01:06:20.910884Z"
    },
    "papermill": {
     "duration": 0.028428,
     "end_time": "2022-08-28T01:06:20.913716",
     "exception": false,
     "start_time": "2022-08-28T01:06:20.885288",
     "status": "completed"
    },
    "tags": []
   },
   "outputs": [],
   "source": [
    "class DrowsinesDataset(Dataset):\n",
    "    def __init__(self, root_dir): # root_dir is the path where we have the data\n",
    "        super(DrowsinesDataset, self).__init__()\n",
    "        self.data = []\n",
    "        self.root_dir = root_dir\n",
    "        self.class_names = os.listdir(root_dir)\n",
    "        self.transform = T.Resize(97)\n",
    "        \n",
    "        for index, name in enumerate(self.class_names):\n",
    "            files = os.listdir(os.path.join(root_dir, name))\n",
    "            self.data += list(zip(files, [index]*len(files)))\n",
    "#for classificate our data from 0 to close eyes and 1 to open eyes\n",
    "#the output will be a liste contain \"((s.....),0 or 1)\" for each file in it\n",
    "    def __len__(self):\n",
    "        return len(self.data)\n",
    "    #get the len of the data(open plus close eyes)\n",
    "\n",
    "    def __getitem__(self, index):\n",
    "        img_file, label = self.data[index]#get each image in the data\n",
    "        root_and_dir = os.path.join(self.root_dir, self.class_names[label])#join the path and class names\n",
    "        image = Image.open(os.path.join(root_and_dir, img_file)).convert(\"RGB\")#joing the path and classe names with image file and read it like an white and black image\n",
    "        image = np.array(self.transform(image))#translat it in np array(list)\n",
    "        \n",
    "        return image, label"
   ]
  },
  {
   "cell_type": "markdown",
   "id": "dfec2d59",
   "metadata": {
    "papermill": {
     "duration": 0.016012,
     "end_time": "2022-08-28T01:06:20.946380",
     "exception": false,
     "start_time": "2022-08-28T01:06:20.930368",
     "status": "completed"
    },
    "tags": []
   },
   "source": [
    "# Hyperparameters"
   ]
  },
  {
   "cell_type": "code",
   "execution_count": 4,
   "id": "1131ff78",
   "metadata": {
    "execution": {
     "iopub.execute_input": "2022-08-28T01:06:20.982948Z",
     "iopub.status.busy": "2022-08-28T01:06:20.982690Z",
     "iopub.status.idle": "2022-08-28T01:06:21.043274Z",
     "shell.execute_reply": "2022-08-28T01:06:21.042588Z"
    },
    "papermill": {
     "duration": 0.080232,
     "end_time": "2022-08-28T01:06:21.045064",
     "exception": false,
     "start_time": "2022-08-28T01:06:20.964832",
     "status": "completed"
    },
    "tags": []
   },
   "outputs": [],
   "source": [
    "SEED = 42\n",
    "DEVICE = \"cuda\" if torch.cuda.is_available() else \"cpu\"\n",
    "BATCH_SIZE = 128\n",
    "LEARNING_RATE = 4e-4\n",
    "NUM_EPOCHS = 5"
   ]
  },
  {
   "cell_type": "markdown",
   "id": "aa632f84",
   "metadata": {
    "papermill": {
     "duration": 0.016184,
     "end_time": "2022-08-28T01:06:21.078994",
     "exception": false,
     "start_time": "2022-08-28T01:06:21.062810",
     "status": "completed"
    },
    "tags": []
   },
   "source": [
    "# Get and check Data loader"
   ]
  },
  {
   "cell_type": "code",
   "execution_count": 5,
   "id": "7cdab23d",
   "metadata": {
    "execution": {
     "iopub.execute_input": "2022-08-28T01:06:21.114008Z",
     "iopub.status.busy": "2022-08-28T01:06:21.113726Z",
     "iopub.status.idle": "2022-08-28T01:06:23.870890Z",
     "shell.execute_reply": "2022-08-28T01:06:23.868197Z"
    },
    "papermill": {
     "duration": 2.776837,
     "end_time": "2022-08-28T01:06:23.872847",
     "exception": false,
     "start_time": "2022-08-28T01:06:21.096010",
     "status": "completed"
    },
    "tags": []
   },
   "outputs": [
    {
     "name": "stdout",
     "output_type": "stream",
     "text": [
      "torch.Size([128, 97, 97, 3]) torch.Size([128])\n"
     ]
    },
    {
     "data": {
      "image/png": "[encoded data removed]",
      "text/plain": [
       "<Figure size 720x720 with 16 Axes>"
      ]
     },
     "metadata": {
      "needs_background": "light"
     },
     "output_type": "display_data"
    }
   ],
   "source": [
    "train_ds = DrowsinesDataset(root_dir=\"../input/human-eyes-openclose-tipe/train/\")\n",
    "test_ds  = DrowsinesDataset(root_dir=\"../input/human-eyes-openclose-tipe/test/\")\n",
    "\n",
    "#loader; creat mini batch size from the dataset\n",
    "train_loader = DataLoader(train_ds, batch_size=BATCH_SIZE,  shuffle=True)\n",
    "test_loader  = DataLoader(test_ds, batch_size=BATCH_SIZE, shuffle=False)#there are no need to shuffle the data in the test period, it's don't make change\n",
    "\n",
    "#just to check our data loader\n",
    "img, lbl = next(iter(test_loader))\n",
    "print(img.shape, lbl.shape)\n",
    "\n",
    "plt.figure(figsize=(10, 10))\n",
    "for i in range(16):\n",
    "    ax = plt.subplot(4, 4, i + 1)\n",
    "    plt.imshow(img[i])\n",
    "    plt.axis(\"off\")\n",
    "    name = ['Open eyes', 'Close eyes'][lbl[i].item()]\n",
    "    ax.set_title(name)"
   ]
  },
  {
   "cell_type": "markdown",
   "id": "917c13d2",
   "metadata": {
    "papermill": {
     "duration": 0.019997,
     "end_time": "2022-08-28T01:06:23.913357",
     "exception": false,
     "start_time": "2022-08-28T01:06:23.893360",
     "status": "completed"
    },
    "tags": []
   },
   "source": [
    "# model"
   ]
  },
  {
   "cell_type": "code",
   "execution_count": 6,
   "id": "2a750476",
   "metadata": {
    "execution": {
     "iopub.execute_input": "2022-08-28T01:06:23.955051Z",
     "iopub.status.busy": "2022-08-28T01:06:23.954444Z",
     "iopub.status.idle": "2022-08-28T01:06:28.196122Z",
     "shell.execute_reply": "2022-08-28T01:06:28.195324Z"
    },
    "papermill": {
     "duration": 4.264622,
     "end_time": "2022-08-28T01:06:28.198032",
     "exception": false,
     "start_time": "2022-08-28T01:06:23.933410",
     "status": "completed"
    },
    "tags": []
   },
   "outputs": [
    {
     "name": "stderr",
     "output_type": "stream",
     "text": [
      "Downloading: \"https://github.com/lukemelas/EfficientNet-PyTorch/releases/download/1.0/efficientnet-b0-355c32eb.pth\" to /root/.cache/torch/hub/checkpoints/efficientnet-b0-355c32eb.pth\n"
     ]
    },
    {
     "data": {
      "application/vnd.jupyter.widget-view+json": {
       "model_id": "e03a73d6adc24cb49aee9488bfdfdc7f",
       "version_major": 2,
       "version_minor": 0
      },
      "text/plain": [
       "  0%|          | 0.00/20.4M [00:00<?, ?B/s]"
      ]
     },
     "metadata": {},
     "output_type": "display_data"
    },
    {
     "name": "stdout",
     "output_type": "stream",
     "text": [
      "Loaded pretrained weights for efficientnet-b0\n"
     ]
    },
    {
     "data": {
      "text/plain": [
       "torch.Size([128, 1])"
      ]
     },
     "execution_count": 6,
     "metadata": {},
     "output_type": "execute_result"
    }
   ],
   "source": [
    "class Model(nn.Module):\n",
    "    def __init__(self):\n",
    "        super(Model, self).__init__()\n",
    "        self.eff    = EfficientNet.from_pretrained('efficientnet-b0')\n",
    "        self.out    = nn.Linear(1000, 1)\n",
    "        self.sigmoid= nn.Sigmoid()\n",
    "\n",
    "    def forward(self, x):\n",
    "        x = x.to(torch.float32)\n",
    "        x = self.eff(x)\n",
    "        #print(x.shape)\n",
    "        x = self.out(x)\n",
    "        x = self.sigmoid(x)\n",
    "        return x\n",
    "    \n",
    "# Check model\n",
    "x = torch.randn((BATCH_SIZE,3,80,80))\n",
    "model = Model()\n",
    "model(x).shape"
   ]
  },
  {
   "cell_type": "markdown",
   "id": "0d615fbc",
   "metadata": {
    "papermill": {
     "duration": 0.021433,
     "end_time": "2022-08-28T01:06:28.241357",
     "exception": false,
     "start_time": "2022-08-28T01:06:28.219924",
     "status": "completed"
    },
    "tags": []
   },
   "source": [
    "# check accuracy"
   ]
  },
  {
   "cell_type": "code",
   "execution_count": 7,
   "id": "11e0c29f",
   "metadata": {
    "execution": {
     "iopub.execute_input": "2022-08-28T01:06:28.285823Z",
     "iopub.status.busy": "2022-08-28T01:06:28.285562Z",
     "iopub.status.idle": "2022-08-28T01:06:28.292006Z",
     "shell.execute_reply": "2022-08-28T01:06:28.291294Z"
    },
    "papermill": {
     "duration": 0.03114,
     "end_time": "2022-08-28T01:06:28.293792",
     "exception": false,
     "start_time": "2022-08-28T01:06:28.262652",
     "status": "completed"
    },
    "tags": []
   },
   "outputs": [],
   "source": [
    "def chek_accuracy(loader, model, device):\n",
    "    nbr_correct =0\n",
    "    nbr_samples =0\n",
    "\n",
    "    model.eval()\n",
    "    with torch.no_grad():\n",
    "        for x, y in tqdm(loader):\n",
    "            # x -:> image and y -> label\n",
    "            x = x.to(device).permute(0,3,1,2)\n",
    "            y = y.to(device).unsqueeze(1)#(128,1) \n",
    "            prediction = model(x) \n",
    "            prediction = (prediction>0.5).float()\n",
    "            nbr_correct += (prediction == y).sum()\t#(128,1) \n",
    "            nbr_samples += prediction.shape[0]\n",
    "        \n",
    "\n",
    "    print('Got: '+str(nbr_correct.item())+'/'+str(nbr_samples) + ' with acuuracy ' + str((nbr_correct/ nbr_samples).item())+'%' )\n",
    "    model.train() \n",
    "    return (nbr_correct/ nbr_samples).item()"
   ]
  },
  {
   "cell_type": "markdown",
   "id": "985a6869",
   "metadata": {
    "papermill": {
     "duration": 0.021254,
     "end_time": "2022-08-28T01:06:28.336126",
     "exception": false,
     "start_time": "2022-08-28T01:06:28.314872",
     "status": "completed"
    },
    "tags": []
   },
   "source": [
    "# Train function"
   ]
  },
  {
   "cell_type": "code",
   "execution_count": 8,
   "id": "231304e7",
   "metadata": {
    "execution": {
     "iopub.execute_input": "2022-08-28T01:06:28.380891Z",
     "iopub.status.busy": "2022-08-28T01:06:28.380231Z",
     "iopub.status.idle": "2022-08-28T01:06:28.385465Z",
     "shell.execute_reply": "2022-08-28T01:06:28.384724Z"
    },
    "papermill": {
     "duration": 0.029924,
     "end_time": "2022-08-28T01:06:28.387229",
     "exception": false,
     "start_time": "2022-08-28T01:06:28.357305",
     "status": "completed"
    },
    "tags": []
   },
   "outputs": [],
   "source": [
    "def train_fn(loader, model, loss_fn, optimizer, device):#device(cuda or cpu)\n",
    "    for image, label in tqdm(loader): \n",
    "        \n",
    "        \n",
    "        # Trasnform label from shape (128) to (128,1) \n",
    "        # label.unsqueeze(0) Trasnform label from shape (128) to (1,128)\n",
    "        image             = image.to(device).permute(0,3,1,2)\n",
    "        label             = label.unsqueeze(1).to(device)\n",
    "        #Forward\n",
    "        predecting_output = model(image)\n",
    "        loss              = loss_fn(predecting_output, label.float())\n",
    "        #Backward\n",
    "        model.zero_grad()\n",
    "        loss.backward()\n",
    "        optimizer.step()"
   ]
  },
  {
   "cell_type": "markdown",
   "id": "ed2c625c",
   "metadata": {
    "papermill": {
     "duration": 0.02286,
     "end_time": "2022-08-28T01:06:28.431241",
     "exception": false,
     "start_time": "2022-08-28T01:06:28.408381",
     "status": "completed"
    },
    "tags": []
   },
   "source": [
    "# Training and evaluation"
   ]
  },
  {
   "cell_type": "code",
   "execution_count": 9,
   "id": "19f07a7b",
   "metadata": {
    "execution": {
     "iopub.execute_input": "2022-08-28T01:06:28.476554Z",
     "iopub.status.busy": "2022-08-28T01:06:28.475819Z",
     "iopub.status.idle": "2022-08-28T01:42:41.713891Z",
     "shell.execute_reply": "2022-08-28T01:42:41.712710Z"
    },
    "papermill": {
     "duration": 2173.262785,
     "end_time": "2022-08-28T01:42:41.716172",
     "exception": false,
     "start_time": "2022-08-28T01:06:28.453387",
     "status": "completed"
    },
    "tags": []
   },
   "outputs": [
    {
     "name": "stdout",
     "output_type": "stream",
     "text": [
      "Loaded pretrained weights for efficientnet-b0\n"
     ]
    },
    {
     "name": "stderr",
     "output_type": "stream",
     "text": [
      "100%|██████████| 195/195 [01:27<00:00,  2.23it/s]\n"
     ]
    },
    {
     "name": "stdout",
     "output_type": "stream",
     "text": [
      "Got: 10734/24926 with acuuracy 0.43063464760780334%\n",
      "############ Epoch: 0\n"
     ]
    },
    {
     "name": "stderr",
     "output_type": "stream",
     "text": [
      "100%|██████████| 469/469 [07:14<00:00,  1.08it/s]\n",
      "100%|██████████| 195/195 [00:25<00:00,  7.60it/s]\n"
     ]
    },
    {
     "name": "stdout",
     "output_type": "stream",
     "text": [
      "Got: 24233/24926 with acuuracy 0.9721976518630981%\n"
     ]
    },
    {
     "name": "stderr",
     "output_type": "stream",
     "text": [
      "100%|██████████| 469/469 [01:05<00:00,  7.13it/s]\n"
     ]
    },
    {
     "name": "stdout",
     "output_type": "stream",
     "text": [
      "Got: 59320/59972 with acuuracy 0.9891282916069031%\n",
      "loading model\n",
      "############ Epoch: 1\n"
     ]
    },
    {
     "name": "stderr",
     "output_type": "stream",
     "text": [
      "100%|██████████| 469/469 [04:56<00:00,  1.58it/s]\n",
      "100%|██████████| 195/195 [00:25<00:00,  7.56it/s]\n"
     ]
    },
    {
     "name": "stdout",
     "output_type": "stream",
     "text": [
      "Got: 24233/24926 with acuuracy 0.9721976518630981%\n"
     ]
    },
    {
     "name": "stderr",
     "output_type": "stream",
     "text": [
      "100%|██████████| 469/469 [01:05<00:00,  7.19it/s]\n"
     ]
    },
    {
     "name": "stdout",
     "output_type": "stream",
     "text": [
      "Got: 59527/59972 with acuuracy 0.9925798773765564%\n",
      "############ Epoch: 2\n"
     ]
    },
    {
     "name": "stderr",
     "output_type": "stream",
     "text": [
      "100%|██████████| 469/469 [04:56<00:00,  1.58it/s]\n",
      "100%|██████████| 195/195 [00:25<00:00,  7.53it/s]\n"
     ]
    },
    {
     "name": "stdout",
     "output_type": "stream",
     "text": [
      "Got: 24213/24926 with acuuracy 0.9713953137397766%\n"
     ]
    },
    {
     "name": "stderr",
     "output_type": "stream",
     "text": [
      "100%|██████████| 469/469 [01:05<00:00,  7.16it/s]\n"
     ]
    },
    {
     "name": "stdout",
     "output_type": "stream",
     "text": [
      "Got: 59600/59972 with acuuracy 0.9937971234321594%\n",
      "############ Epoch: 3\n"
     ]
    },
    {
     "name": "stderr",
     "output_type": "stream",
     "text": [
      "100%|██████████| 469/469 [04:58<00:00,  1.57it/s]\n",
      "100%|██████████| 195/195 [00:25<00:00,  7.70it/s]\n"
     ]
    },
    {
     "name": "stdout",
     "output_type": "stream",
     "text": [
      "Got: 23901/24926 with acuuracy 0.958878219127655%\n"
     ]
    },
    {
     "name": "stderr",
     "output_type": "stream",
     "text": [
      "100%|██████████| 469/469 [01:06<00:00,  7.06it/s]\n"
     ]
    },
    {
     "name": "stdout",
     "output_type": "stream",
     "text": [
      "Got: 59504/59972 with acuuracy 0.9921963810920715%\n",
      "############ Epoch: 4\n"
     ]
    },
    {
     "name": "stderr",
     "output_type": "stream",
     "text": [
      "100%|██████████| 469/469 [04:57<00:00,  1.57it/s]\n",
      "100%|██████████| 195/195 [00:26<00:00,  7.28it/s]\n"
     ]
    },
    {
     "name": "stdout",
     "output_type": "stream",
     "text": [
      "Got: 24433/24926 with acuuracy 0.9802213907241821%\n"
     ]
    },
    {
     "name": "stderr",
     "output_type": "stream",
     "text": [
      "100%|██████████| 469/469 [01:06<00:00,  7.11it/s]"
     ]
    },
    {
     "name": "stdout",
     "output_type": "stream",
     "text": [
      "Got: 59684/59972 with acuuracy 0.9951977729797363%\n",
      "loading model\n"
     ]
    },
    {
     "name": "stderr",
     "output_type": "stream",
     "text": [
      "\n"
     ]
    }
   ],
   "source": [
    "loss_fn   = nn.BCELoss()\n",
    "model     = Model().to(DEVICE)\n",
    "optimizer = optim.Adam(model.parameters(), lr=LEARNING_RATE)\n",
    "score     = 0\n",
    "\n",
    "chek_accuracy(test_loader,model, DEVICE)\n",
    "\n",
    "for epoch in range(NUM_EPOCHS):\n",
    "    print('############ Epoch: '+str(epoch))\n",
    "    train_fn(train_loader, model, loss_fn, optimizer, DEVICE)\n",
    "    acc = chek_accuracy(test_loader,model, DEVICE)\n",
    "    chek_accuracy(train_loader,model, DEVICE)\n",
    "    if score < acc:\n",
    "        score = acc\n",
    "        torch.save(model.state_dict(), 'checkpoint.h5')\n",
    "        print('loading model')\n"
   ]
  },
  {
   "cell_type": "code",
   "execution_count": null,
   "id": "023c4807",
   "metadata": {
    "papermill": {
     "duration": 1.751898,
     "end_time": "2022-08-28T01:42:45.238438",
     "exception": false,
     "start_time": "2022-08-28T01:42:43.486540",
     "status": "completed"
    },
    "tags": []
   },
   "outputs": [],
   "source": []
  },
  {
   "cell_type": "code",
   "execution_count": null,
   "id": "cc496d05",
   "metadata": {
    "papermill": {
     "duration": 1.967907,
     "end_time": "2022-08-28T01:42:48.928868",
     "exception": false,
     "start_time": "2022-08-28T01:42:46.960961",
     "status": "completed"
    },
    "tags": []
   },
   "outputs": [],
   "source": []
  },
  {
   "cell_type": "code",
   "execution_count": null,
   "id": "e66a6567",
   "metadata": {
    "papermill": {
     "duration": 1.708212,
     "end_time": "2022-08-28T01:42:52.404832",
     "exception": false,
     "start_time": "2022-08-28T01:42:50.696620",
     "status": "completed"
    },
    "tags": []
   },
   "outputs": [],
   "source": []
  }
 ],
 "metadata": {
  "kernelspec": {
   "display_name": "Python 3",
   "language": "python",
   "name": "python3"
  },
  "language_info": {
   "codemirror_mode": {
    "name": "ipython",
    "version": 3
   },
   "file_extension": ".py",
   "mimetype": "text/x-python",
   "name": "python",
   "nbconvert_exporter": "python",
   "pygments_lexer": "ipython3",
   "version": "3.7.12"
  },
  "papermill": {
   "default_parameters": {},
   "duration": 2218.191721,
   "end_time": "2022-08-28T01:42:56.313017",
   "environment_variables": {},
   "exception": null,
   "input_path": "__notebook__.ipynb",
   "output_path": "__notebook__.ipynb",
   "parameters": {},
   "start_time": "2022-08-28T01:05:58.121296",
   "version": "2.3.4"
  },
  "widgets": {
   "application/vnd.jupyter.widget-state+json": {
    "state": {
     "2a23c10a9f7a43d4ae440111a149dbaf": {
      "model_module": "@jupyter-widgets/controls",
      "model_module_version": "1.5.0",
      "model_name": "DescriptionStyleModel",
      "state": {
       "_model_module": "@jupyter-widgets/controls",
       "_model_module_version": "1.5.0",
       "_model_name": "DescriptionStyleModel",
       "_view_count": null,
       "_view_module": "@jupyter-widgets/base",
       "_view_module_version": "1.2.0",
       "_view_name": "StyleView",
       "description_width": ""
      }
     },
     "3dba39d02cb044d7bafdadf2dadeef7c": {
      "model_module": "@jupyter-widgets/base",
      "model_module_version": "1.2.0",
      "model_name": "LayoutModel",
      "state": {
       "_model_module": "@jupyter-widgets/base",
       "_model_module_version": "1.2.0",
       "_model_name": "LayoutModel",
       "_view_count": null,
       "_view_module": "@jupyter-widgets/base",
       "_view_module_version": "1.2.0",
       "_view_name": "LayoutView",
       "align_content": null,
       "align_items": null,
       "align_self": null,
       "border": null,
       "bottom": null,
       "display": null,
       "flex": null,
       "flex_flow": null,
       "grid_area": null,
       "grid_auto_columns": null,
       "grid_auto_flow": null,
       "grid_auto_rows": null,
       "grid_column": null,
       "grid_gap": null,
       "grid_row": null,
       "grid_template_areas": null,
       "grid_template_columns": null,
       "grid_template_rows": null,
       "height": null,
       "justify_content": null,
       "justify_items": null,
       "left": null,
       "margin": null,
       "max_height": null,
       "max_width": null,
       "min_height": null,
       "min_width": null,
       "object_fit": null,
       "object_position": null,
       "order": null,
       "overflow": null,
       "overflow_x": null,
       "overflow_y": null,
       "padding": null,
       "right": null,
       "top": null,
       "visibility": null,
       "width": null
      }
     },
     "975c19bf48f1402ebc19ea8d19fb4edd": {
      "model_module": "@jupyter-widgets/base",
      "model_module_version": "1.2.0",
      "model_name": "LayoutModel",
      "state": {
       "_model_module": "@jupyter-widgets/base",
       "_model_module_version": "1.2.0",
       "_model_name": "LayoutModel",
       "_view_count": null,
       "_view_module": "@jupyter-widgets/base",
       "_view_module_version": "1.2.0",
       "_view_name": "LayoutView",
       "align_content": null,
       "align_items": null,
       "align_self": null,
       "border": null,
       "bottom": null,
       "display": null,
       "flex": null,
       "flex_flow": null,
       "grid_area": null,
       "grid_auto_columns": null,
       "grid_auto_flow": null,
       "grid_auto_rows": null,
       "grid_column": null,
       "grid_gap": null,
       "grid_row": null,
       "grid_template_areas": null,
       "grid_template_columns": null,
       "grid_template_rows": null,
       "height": null,
       "justify_content": null,
       "justify_items": null,
       "left": null,
       "margin": null,
       "max_height": null,
       "max_width": null,
       "min_height": null,
       "min_width": null,
       "object_fit": null,
       "object_position": null,
       "order": null,
       "overflow": null,
       "overflow_x": null,
       "overflow_y": null,
       "padding": null,
       "right": null,
       "top": null,
       "visibility": null,
       "width": null
      }
     },
     "bdc66b7b89c2458f92efc64b2bcbe1f9": {
      "model_module": "@jupyter-widgets/controls",
      "model_module_version": "1.5.0",
      "model_name": "FloatProgressModel",
      "state": {
       "_dom_classes": [],
       "_model_module": "@jupyter-widgets/controls",
       "_model_module_version": "1.5.0",
       "_model_name": "FloatProgressModel",
       "_view_count": null,
       "_view_module": "@jupyter-widgets/controls",
       "_view_module_version": "1.5.0",
       "_view_name": "ProgressView",
       "bar_style": "success",
       "description": "",
       "description_tooltip": null,
       "layout": "IPY_MODEL_3dba39d02cb044d7bafdadf2dadeef7c",
       "max": 21388428.0,
       "min": 0.0,
       "orientation": "horizontal",
       "style": "IPY_MODEL_c1b78a8675864e21ab0f029757ab89c1",
       "value": 21388428.0
      }
     },
     "c1b78a8675864e21ab0f029757ab89c1": {
      "model_module": "@jupyter-widgets/controls",
      "model_module_version": "1.5.0",
      "model_name": "ProgressStyleModel",
      "state": {
       "_model_module": "@jupyter-widgets/controls",
       "_model_module_version": "1.5.0",
       "_model_name": "ProgressStyleModel",
       "_view_count": null,
       "_view_module": "@jupyter-widgets/base",
       "_view_module_version": "1.2.0",
       "_view_name": "StyleView",
       "bar_color": null,
       "description_width": ""
      }
     },
     "c5ecd38b7a4a4f19b1704af41073577d": {
      "model_module": "@jupyter-widgets/base",
      "model_module_version": "1.2.0",
      "model_name": "LayoutModel",
      "state": {
       "_model_module": "@jupyter-widgets/base",
       "_model_module_version": "1.2.0",
       "_model_name": "LayoutModel",
       "_view_count": null,
       "_view_module": "@jupyter-widgets/base",
       "_view_module_version": "1.2.0",
       "_view_name": "LayoutView",
       "align_content": null,
       "align_items": null,
       "align_self": null,
       "border": null,
       "bottom": null,
       "display": null,
       "flex": null,
       "flex_flow": null,
       "grid_area": null,
       "grid_auto_columns": null,
       "grid_auto_flow": null,
       "grid_auto_rows": null,
       "grid_column": null,
       "grid_gap": null,
       "grid_row": null,
       "grid_template_areas": null,
       "grid_template_columns": null,
       "grid_template_rows": null,
       "height": null,
       "justify_content": null,
       "justify_items": null,
       "left": null,
       "margin": null,
       "max_height": null,
       "max_width": null,
       "min_height": null,
       "min_width": null,
       "object_fit": null,
       "object_position": null,
       "order": null,
       "overflow": null,
       "overflow_x": null,
       "overflow_y": null,
       "padding": null,
       "right": null,
       "top": null,
       "visibility": null,
       "width": null
      }
     },
     "d050494be2d34231a7c3e42edebf869c": {
      "model_module": "@jupyter-widgets/controls",
      "model_module_version": "1.5.0",
      "model_name": "HTMLModel",
      "state": {
       "_dom_classes": [],
       "_model_module": "@jupyter-widgets/controls",
       "_model_module_version": "1.5.0",
       "_model_name": "HTMLModel",
       "_view_count": null,
       "_view_module": "@jupyter-widgets/controls",
       "_view_module_version": "1.5.0",
       "_view_name": "HTMLView",
       "description": "",
       "description_tooltip": null,
       "layout": "IPY_MODEL_975c19bf48f1402ebc19ea8d19fb4edd",
       "placeholder": "​",
       "style": "IPY_MODEL_2a23c10a9f7a43d4ae440111a149dbaf",
       "value": "100%"
      }
     },
     "e03a73d6adc24cb49aee9488bfdfdc7f": {
      "model_module": "@jupyter-widgets/controls",
      "model_module_version": "1.5.0",
      "model_name": "HBoxModel",
      "state": {
       "_dom_classes": [],
       "_model_module": "@jupyter-widgets/controls",
       "_model_module_version": "1.5.0",
       "_model_name": "HBoxModel",
       "_view_count": null,
       "_view_module": "@jupyter-widgets/controls",
       "_view_module_version": "1.5.0",
       "_view_name": "HBoxView",
       "box_style": "",
       "children": [
        "IPY_MODEL_d050494be2d34231a7c3e42edebf869c",
        "IPY_MODEL_bdc66b7b89c2458f92efc64b2bcbe1f9",
        "IPY_MODEL_eb4b35f81f924498850f04487f4144f2"
       ],
       "layout": "IPY_MODEL_c5ecd38b7a4a4f19b1704af41073577d"
      }
     },
     "e7c8a73346b240e987363cae3258b6e2": {
      "model_module": "@jupyter-widgets/controls",
      "model_module_version": "1.5.0",
      "model_name": "DescriptionStyleModel",
      "state": {
       "_model_module": "@jupyter-widgets/controls",
       "_model_module_version": "1.5.0",
       "_model_name": "DescriptionStyleModel",
       "_view_count": null,
       "_view_module": "@jupyter-widgets/base",
       "_view_module_version": "1.2.0",
       "_view_name": "StyleView",
       "description_width": ""
      }
     },
     "eb4b35f81f924498850f04487f4144f2": {
      "model_module": "@jupyter-widgets/controls",
      "model_module_version": "1.5.0",
      "model_name": "HTMLModel",
      "state": {
       "_dom_classes": [],
       "_model_module": "@jupyter-widgets/controls",
       "_model_module_version": "1.5.0",
       "_model_name": "HTMLModel",
       "_view_count": null,
       "_view_module": "@jupyter-widgets/controls",
       "_view_module_version": "1.5.0",
       "_view_name": "HTMLView",
       "description": "",
       "description_tooltip": null,
       "layout": "IPY_MODEL_fcc6a818b11243b9b988435551e0536e",
       "placeholder": "​",
       "style": "IPY_MODEL_e7c8a73346b240e987363cae3258b6e2",
       "value": " 20.4M/20.4M [00:00&lt;00:00, 40.3MB/s]"
      }
     },
     "fcc6a818b11243b9b988435551e0536e": {
      "model_module": "@jupyter-widgets/base",
      "model_module_version": "1.2.0",
      "model_name": "LayoutModel",
      "state": {
       "_model_module": "@jupyter-widgets/base",
       "_model_module_version": "1.2.0",
       "_model_name": "LayoutModel",
       "_view_count": null,
       "_view_module": "@jupyter-widgets/base",
       "_view_module_version": "1.2.0",
       "_view_name": "LayoutView",
       "align_content": null,
       "align_items": null,
       "align_self": null,
       "border": null,
       "bottom": null,
       "display": null,
       "flex": null,
       "flex_flow": null,
       "grid_area": null,
       "grid_auto_columns": null,
       "grid_auto_flow": null,
       "grid_auto_rows": null,
       "grid_column": null,
       "grid_gap": null,
       "grid_row": null,
       "grid_template_areas": null,
       "grid_template_columns": null,
       "grid_template_rows": null,
       "height": null,
       "justify_content": null,
       "justify_items": null,
       "left": null,
       "margin": null,
       "max_height": null,
       "max_width": null,
       "min_height": null,
       "min_width": null,
       "object_fit": null,
       "object_position": null,
       "order": null,
       "overflow": null,
       "overflow_x": null,
       "overflow_y": null,
       "padding": null,
       "right": null,
       "top": null,
       "visibility": null,
       "width": null
      }
     }
    },
    "version_major": 2,
    "version_minor": 0
   }
  }
 },
 "nbformat": 4,
 "nbformat_minor": 5
}
