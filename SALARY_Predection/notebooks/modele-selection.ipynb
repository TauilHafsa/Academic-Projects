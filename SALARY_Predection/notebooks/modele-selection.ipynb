{
 "cells": [
  {
   "cell_type": "markdown",
   "id": "fd247a45",
   "metadata": {
    "papermill": {
     "duration": 0.004097,
     "end_time": "2025-05-16T19:25:36.822495",
     "exception": false,
     "start_time": "2025-05-16T19:25:36.818398",
     "status": "completed"
    },
    "tags": []
   },
   "source": [
    "# Importer les bibliothèques de base"
   ]
  },
  {
   "cell_type": "code",
   "execution_count": 1,
   "id": "6b6cefb3",
   "metadata": {
    "_cell_guid": "b1076dfc-b9ad-4769-8c92-a6c4dae69d19",
    "_uuid": "8f2839f25d086af736a60e9eeb907d3b93b6e0e5",
    "execution": {
     "iopub.execute_input": "2025-05-16T19:25:36.830808Z",
     "iopub.status.busy": "2025-05-16T19:25:36.830435Z",
     "iopub.status.idle": "2025-05-16T19:25:41.043987Z",
     "shell.execute_reply": "2025-05-16T19:25:41.042641Z"
    },
    "papermill": {
     "duration": 4.219816,
     "end_time": "2025-05-16T19:25:41.045837",
     "exception": false,
     "start_time": "2025-05-16T19:25:36.826021",
     "status": "completed"
    },
    "tags": []
   },
   "outputs": [],
   "source": [
    "import pandas as pd\n",
    "import numpy as np\n",
    "from sklearn.pipeline import make_pipeline, Pipeline\n",
    "from sklearn.neural_network import MLPRegressor\n",
    "from sklearn.model_selection import train_test_split, GridSearchCV\n",
    "from sklearn.metrics import mean_absolute_error, mean_squared_error, r2_score\n",
    "from sklearn.base import BaseEstimator, TransformerMixin\n",
    "from sklearn.impute import SimpleImputer\n",
    "from sklearn.preprocessing import StandardScaler, OneHotEncoder\n",
    "from sklearn.compose import ColumnTransformer\n",
    "import joblib\n",
    "\n",
    "import warnings\n",
    "from sklearn.exceptions import ConvergenceWarning\n",
    "\n",
    "# Suppress RuntimeWarnings and ConvergenceWarnings\n",
    "warnings.filterwarnings(\"ignore\", category=RuntimeWarning)\n",
    "warnings.filterwarnings(\"ignore\", category=ConvergenceWarning)\n"
   ]
  },
  {
   "cell_type": "markdown",
   "id": "54753bb4",
   "metadata": {
    "papermill": {
     "duration": 0.003115,
     "end_time": "2025-05-16T19:25:41.052690",
     "exception": false,
     "start_time": "2025-05-16T19:25:41.049575",
     "status": "completed"
    },
    "tags": []
   },
   "source": [
    "# Charger les données"
   ]
  },
  {
   "cell_type": "code",
   "execution_count": null,
   "id": "47cba851",
   "metadata": {
    "execution": {
     "iopub.execute_input": "2025-05-16T19:25:41.060911Z",
     "iopub.status.busy": "2025-05-16T19:25:41.060451Z",
     "iopub.status.idle": "2025-05-16T19:25:41.356763Z",
     "shell.execute_reply": "2025-05-16T19:25:41.355400Z"
    },
    "papermill": {
     "duration": 0.302683,
     "end_time": "2025-05-16T19:25:41.358682",
     "exception": false,
     "start_time": "2025-05-16T19:25:41.055999",
     "status": "completed"
    },
    "tags": []
   },
   "outputs": [
    {
     "data": {
      "text/html": [
       "<div>\n",
       "<style scoped>\n",
       "    .dataframe tbody tr th:only-of-type {\n",
       "        vertical-align: middle;\n",
       "    }\n",
       "\n",
       "    .dataframe tbody tr th {\n",
       "        vertical-align: top;\n",
       "    }\n",
       "\n",
       "    .dataframe thead th {\n",
       "        text-align: right;\n",
       "    }\n",
       "</style>\n",
       "<table border=\"1\" class=\"dataframe\">\n",
       "  <thead>\n",
       "    <tr style=\"text-align: right;\">\n",
       "      <th></th>\n",
       "      <th>milieu</th>\n",
       "      <th>sexe</th>\n",
       "      <th>age</th>\n",
       "      <th>categorie_age</th>\n",
       "      <th>niveau_education</th>\n",
       "      <th>annees_experience</th>\n",
       "      <th>etat_matrimonial</th>\n",
       "      <th>categorie_socioprofessionnelle</th>\n",
       "      <th>possession_voiture</th>\n",
       "      <th>possession_logement</th>\n",
       "      <th>possession_terrain</th>\n",
       "      <th>personnes_a_charge</th>\n",
       "      <th>secteur_activite</th>\n",
       "      <th>acces_services_financiers</th>\n",
       "      <th>revenu_annuel</th>\n",
       "    </tr>\n",
       "  </thead>\n",
       "  <tbody>\n",
       "    <tr>\n",
       "      <th>0</th>\n",
       "      <td>Urbain</td>\n",
       "      <td>Homme</td>\n",
       "      <td>36</td>\n",
       "      <td>Adulte</td>\n",
       "      <td>Fondamental</td>\n",
       "      <td>17.0</td>\n",
       "      <td>Veuf</td>\n",
       "      <td>Groupe 2</td>\n",
       "      <td>1</td>\n",
       "      <td>1</td>\n",
       "      <td>1</td>\n",
       "      <td>2</td>\n",
       "      <td>Public</td>\n",
       "      <td>Basique</td>\n",
       "      <td>28477.735465</td>\n",
       "    </tr>\n",
       "    <tr>\n",
       "      <th>1</th>\n",
       "      <td>Urbain</td>\n",
       "      <td>Homme</td>\n",
       "      <td>45</td>\n",
       "      <td>Adulte</td>\n",
       "      <td>Fondamental</td>\n",
       "      <td>24.0</td>\n",
       "      <td>Marié</td>\n",
       "      <td>Groupe 5</td>\n",
       "      <td>0</td>\n",
       "      <td>0</td>\n",
       "      <td>0</td>\n",
       "      <td>0</td>\n",
       "      <td>Privé informel</td>\n",
       "      <td>Aucun</td>\n",
       "      <td>17503.035465</td>\n",
       "    </tr>\n",
       "    <tr>\n",
       "      <th>2</th>\n",
       "      <td>Urbain</td>\n",
       "      <td>Homme</td>\n",
       "      <td>35</td>\n",
       "      <td>Adulte</td>\n",
       "      <td>Secondaire</td>\n",
       "      <td>14.0</td>\n",
       "      <td>Marié</td>\n",
       "      <td>Groupe 2</td>\n",
       "      <td>1</td>\n",
       "      <td>0</td>\n",
       "      <td>1</td>\n",
       "      <td>1</td>\n",
       "      <td>Public</td>\n",
       "      <td>Basique</td>\n",
       "      <td>36705.135465</td>\n",
       "    </tr>\n",
       "    <tr>\n",
       "      <th>3</th>\n",
       "      <td>Urbain</td>\n",
       "      <td>Homme</td>\n",
       "      <td>18</td>\n",
       "      <td>Jeune</td>\n",
       "      <td>Secondaire</td>\n",
       "      <td>0.0</td>\n",
       "      <td>Célibataire</td>\n",
       "      <td>Groupe 2</td>\n",
       "      <td>0</td>\n",
       "      <td>0</td>\n",
       "      <td>0</td>\n",
       "      <td>1</td>\n",
       "      <td>Public</td>\n",
       "      <td>Avancé</td>\n",
       "      <td>24200.235465</td>\n",
       "    </tr>\n",
       "    <tr>\n",
       "      <th>4</th>\n",
       "      <td>Urbain</td>\n",
       "      <td>Homme</td>\n",
       "      <td>37</td>\n",
       "      <td>Adulte</td>\n",
       "      <td>Supérieur</td>\n",
       "      <td>11.0</td>\n",
       "      <td>Marié</td>\n",
       "      <td>Groupe 2</td>\n",
       "      <td>1</td>\n",
       "      <td>0</td>\n",
       "      <td>0</td>\n",
       "      <td>3</td>\n",
       "      <td>Privé formel</td>\n",
       "      <td>Aucun</td>\n",
       "      <td>39118.935465</td>\n",
       "    </tr>\n",
       "  </tbody>\n",
       "</table>\n",
       "</div>"
      ],
      "text/plain": [
       "   milieu   sexe  age categorie_age niveau_education  annees_experience  \\\n",
       "0  Urbain  Homme   36        Adulte      Fondamental               17.0   \n",
       "1  Urbain  Homme   45        Adulte      Fondamental               24.0   \n",
       "2  Urbain  Homme   35        Adulte       Secondaire               14.0   \n",
       "3  Urbain  Homme   18         Jeune       Secondaire                0.0   \n",
       "4  Urbain  Homme   37        Adulte        Supérieur               11.0   \n",
       "\n",
       "  etat_matrimonial categorie_socioprofessionnelle  possession_voiture  \\\n",
       "0             Veuf                       Groupe 2                   1   \n",
       "1            Marié                       Groupe 5                   0   \n",
       "2            Marié                       Groupe 2                   1   \n",
       "3      Célibataire                       Groupe 2                   0   \n",
       "4            Marié                       Groupe 2                   1   \n",
       "\n",
       "   possession_logement  possession_terrain  personnes_a_charge  \\\n",
       "0                    1                   1                   2   \n",
       "1                    0                   0                   0   \n",
       "2                    0                   1                   1   \n",
       "3                    0                   0                   1   \n",
       "4                    0                   0                   3   \n",
       "\n",
       "  secteur_activite acces_services_financiers  revenu_annuel  \n",
       "0           Public                   Basique   28477.735465  \n",
       "1   Privé informel                     Aucun   17503.035465  \n",
       "2           Public                   Basique   36705.135465  \n",
       "3           Public                    Avancé   24200.235465  \n",
       "4     Privé formel                     Aucun   39118.935465  "
      ]
     },
     "execution_count": 2,
     "metadata": {},
     "output_type": "execute_result"
    }
   ],
   "source": [
    "df = pd.read_csv(\"dataset_revenu_marocains.csv\") \n",
    "df = df.drop(['id','id_transaction', 'date_inscription','couleur_preferee', 'age_mois' ], axis=1)\n",
    "\n",
    "df.head()"
   ]
  },
  {
   "cell_type": "markdown",
   "id": "6410fcd0",
   "metadata": {
    "papermill": {
     "duration": 0.003402,
     "end_time": "2025-05-16T19:25:41.366139",
     "exception": false,
     "start_time": "2025-05-16T19:25:41.362737",
     "status": "completed"
    },
    "tags": []
   },
   "source": [
    "# Prétraitement des données"
   ]
  },
  {
   "cell_type": "code",
   "execution_count": 3,
   "id": "174552c1",
   "metadata": {
    "execution": {
     "iopub.execute_input": "2025-05-16T19:25:41.375848Z",
     "iopub.status.busy": "2025-05-16T19:25:41.375568Z",
     "iopub.status.idle": "2025-05-16T19:25:41.437327Z",
     "shell.execute_reply": "2025-05-16T19:25:41.436366Z"
    },
    "papermill": {
     "duration": 0.06877,
     "end_time": "2025-05-16T19:25:41.438966",
     "exception": false,
     "start_time": "2025-05-16T19:25:41.370196",
     "status": "completed"
    },
    "tags": []
   },
   "outputs": [],
   "source": [
    "class OutlierRemover(BaseEstimator, TransformerMixin):\n",
    "    def __init__(self, z_thresh=3):\n",
    "        self.z_thresh = z_thresh\n",
    "\n",
    "    def fit(self, X, y=None):\n",
    "        return self\n",
    "\n",
    "    def transform(self, X, y=None):\n",
    "        # Only apply on numeric columns\n",
    "        numeric_cols = X.select_dtypes(include=np.number).columns\n",
    "        mask = (np.abs((X[numeric_cols] - X[numeric_cols].mean()) / X[numeric_cols].std()) < self.z_thresh).all(axis=1)\n",
    "        return X[mask]\n",
    "\n",
    "class FeatureEngineering(BaseEstimator, TransformerMixin):\n",
    "    def fit(self, X, y=None):\n",
    "        return self\n",
    "\n",
    "    def transform(self, X):\n",
    "        X_transformed = X.copy()\n",
    "\n",
    "        # Ensure numeric types\n",
    "        for col in ['annees_experience', 'age', 'niveau_education']:\n",
    "            X_transformed[col] = pd.to_numeric(X_transformed[col], errors='coerce')\n",
    "\n",
    "        # Avoid division by zero or NaNs\n",
    "        X_transformed['annees_experience'] = X_transformed['annees_experience'].replace(0, np.nan)\n",
    "        X_transformed['age'] = X_transformed['age'].replace(0, np.nan)\n",
    "\n",
    "        # Create ratios\n",
    "        X_transformed['ratio_experience_age'] = X_transformed['annees_experience'] / X_transformed['age']\n",
    "        X_transformed['ratio_education_experience'] = X_transformed['niveau_education'] / X_transformed['annees_experience']\n",
    "\n",
    "        return X_transformed\n",
    "\n",
    "\n",
    "        \n",
    "# Separate features and target\n",
    "X_train = df.drop(columns=\"revenu_annuel\")\n",
    "y_train = df[\"revenu_annuel\"]\n",
    "\n",
    "# Identify column types\n",
    "numeric_features     = X_train.select_dtypes(include=np.number).columns.tolist()\n",
    "categorical_features = X_train.select_dtypes(include=[\"object\"]).columns.tolist()\n",
    "\n",
    "# Preprocessing for numerical and categorical data\n",
    "numeric_transformer = make_pipeline(\n",
    "    SimpleImputer(strategy='median'),\n",
    "    StandardScaler()\n",
    ")\n",
    "\n",
    "categorical_transformer = make_pipeline(\n",
    "    SimpleImputer(strategy='most_frequent'),\n",
    "    OneHotEncoder(handle_unknown='ignore')\n",
    ")\n",
    "\n",
    "# Column transformer\n",
    "preprocessor = ColumnTransformer(\n",
    "    transformers=[\n",
    "        ('num', numeric_transformer, numeric_features),\n",
    "        ('cat', categorical_transformer, categorical_features)\n",
    "    ]\n",
    ")\n",
    "\n",
    "# Apply outlier remover manually before pipeline\n",
    "outlier_remover = OutlierRemover()\n",
    "mask = outlier_remover.transform(X_train).index\n",
    "X_train_clean = X_train.loc[mask]\n",
    "y_train_clean = y_train.loc[mask]"
   ]
  },
  {
   "cell_type": "markdown",
   "id": "c1b84d52",
   "metadata": {
    "papermill": {
     "duration": 0.003376,
     "end_time": "2025-05-16T19:25:41.446508",
     "exception": false,
     "start_time": "2025-05-16T19:25:41.443132",
     "status": "completed"
    },
    "tags": []
   },
   "source": [
    "# Séparation des données"
   ]
  },
  {
   "cell_type": "code",
   "execution_count": 4,
   "id": "79bb16d7",
   "metadata": {
    "execution": {
     "iopub.execute_input": "2025-05-16T19:25:41.454751Z",
     "iopub.status.busy": "2025-05-16T19:25:41.454443Z",
     "iopub.status.idle": "2025-05-16T19:25:41.473243Z",
     "shell.execute_reply": "2025-05-16T19:25:41.472468Z"
    },
    "papermill": {
     "duration": 0.024819,
     "end_time": "2025-05-16T19:25:41.474850",
     "exception": false,
     "start_time": "2025-05-16T19:25:41.450031",
     "status": "completed"
    },
    "tags": []
   },
   "outputs": [],
   "source": [
    "X_train, X_test, y_train, y_test = train_test_split(X_train_clean, y_train_clean, test_size=0.3, random_state=42)"
   ]
  },
  {
   "cell_type": "markdown",
   "id": "3b78103d",
   "metadata": {
    "papermill": {
     "duration": 0.00327,
     "end_time": "2025-05-16T19:25:41.481920",
     "exception": false,
     "start_time": "2025-05-16T19:25:41.478650",
     "status": "completed"
    },
    "tags": []
   },
   "source": [
    "# Créer le modèle"
   ]
  },
  {
   "cell_type": "code",
   "execution_count": 5,
   "id": "21934c70",
   "metadata": {
    "execution": {
     "iopub.execute_input": "2025-05-16T19:25:41.490282Z",
     "iopub.status.busy": "2025-05-16T19:25:41.489693Z",
     "iopub.status.idle": "2025-05-16T19:27:32.909718Z",
     "shell.execute_reply": "2025-05-16T19:27:32.908908Z"
    },
    "papermill": {
     "duration": 111.429414,
     "end_time": "2025-05-16T19:27:32.914762",
     "exception": false,
     "start_time": "2025-05-16T19:25:41.485348",
     "status": "completed"
    },
    "tags": []
   },
   "outputs": [
    {
     "name": "stdout",
     "output_type": "stream",
     "text": [
      "\n",
      "############# MLP Regressor - Results:\n",
      "MAE:  2568.45\n",
      "RMSE: 6033.28\n",
      "R²:   0.8503\n"
     ]
    }
   ],
   "source": [
    "pipeline = make_pipeline(\n",
    "    FeatureEngineering(),\n",
    "    preprocessor,\n",
    "    MLPRegressor(\n",
    "        hidden_layer_sizes=(100, 100),\n",
    "        activation='relu',\n",
    "        solver='adam',\n",
    "        alpha=0.0001,\n",
    "        learning_rate='constant',\n",
    "        learning_rate_init=0.001,\n",
    "        max_iter=300,\n",
    "        random_state=42\n",
    "    )\n",
    ")\n",
    "\n",
    "# Fit the model\n",
    "pipeline.fit(X_train_clean, y_train_clean)\n",
    "\n",
    "# Predictions\n",
    "y_pred = pipeline.predict(X_test)\n",
    "print('\\n############# MLP Regressor - Results:')\n",
    "print(f\"MAE:  {mean_absolute_error(y_test, y_pred):.2f}\")\n",
    "print(f\"RMSE: {np.sqrt(mean_squared_error(y_test, y_pred)):.2f}\")\n",
    "print(f\"R²:   {r2_score(y_test, y_pred):.4f}\")"
   ]
  },
  {
   "cell_type": "markdown",
   "id": "6badf19e",
   "metadata": {
    "papermill": {
     "duration": 0.003402,
     "end_time": "2025-05-16T19:27:32.922484",
     "exception": false,
     "start_time": "2025-05-16T19:27:32.919082",
     "status": "completed"
    },
    "tags": []
   },
   "source": [
    "# Enregistrer le modèle avec Joblib"
   ]
  },
  {
   "cell_type": "code",
   "execution_count": 6,
   "id": "f2c0b572",
   "metadata": {
    "execution": {
     "iopub.execute_input": "2025-05-16T19:27:32.931755Z",
     "iopub.status.busy": "2025-05-16T19:27:32.931447Z",
     "iopub.status.idle": "2025-05-16T19:27:33.042997Z",
     "shell.execute_reply": "2025-05-16T19:27:33.042027Z"
    },
    "papermill": {
     "duration": 0.118175,
     "end_time": "2025-05-16T19:27:33.044666",
     "exception": false,
     "start_time": "2025-05-16T19:27:32.926491",
     "status": "completed"
    },
    "tags": []
   },
   "outputs": [
    {
     "name": "stdout",
     "output_type": "stream",
     "text": [
      "\n",
      "Modèle enregistré avec succès.\n"
     ]
    }
   ],
   "source": [
    "# Save the best model with Joblib\n",
    "joblib.dump(pipeline, \"best_model.joblib\")\n",
    "print(\"\\nModèle enregistré avec succès.\")"
   ]
  },
  {
   "cell_type": "markdown",
   "id": "2bfcf2a1",
   "metadata": {
    "papermill": {
     "duration": 0.003354,
     "end_time": "2025-05-16T19:27:33.051853",
     "exception": false,
     "start_time": "2025-05-16T19:27:33.048499",
     "status": "completed"
    },
    "tags": []
   },
   "source": [
    "# Charger le modèle"
   ]
  },
  {
   "cell_type": "code",
   "execution_count": 7,
   "id": "ca6517a2",
   "metadata": {
    "execution": {
     "iopub.execute_input": "2025-05-16T19:27:33.060194Z",
     "iopub.status.busy": "2025-05-16T19:27:33.059828Z",
     "iopub.status.idle": "2025-05-16T19:27:33.082972Z",
     "shell.execute_reply": "2025-05-16T19:27:33.081778Z"
    },
    "papermill": {
     "duration": 0.02947,
     "end_time": "2025-05-16T19:27:33.084833",
     "exception": false,
     "start_time": "2025-05-16T19:27:33.055363",
     "status": "completed"
    },
    "tags": []
   },
   "outputs": [
    {
     "name": "stdout",
     "output_type": "stream",
     "text": [
      "Modèle chargé avec succès.\n",
      "\n",
      "Prédiction pour un exemple : [24125.54487571]\n"
     ]
    }
   ],
   "source": [
    "# Load the saved model for future predictions\n",
    "loaded_model = joblib.load(\"best_model.joblib\")\n",
    "print(\"Modèle chargé avec succès.\")\n",
    "\n",
    "# Test a sample prediction\n",
    "sample_pred = loaded_model.predict(X_test[:1])\n",
    "print(\"\\nPrédiction pour un exemple :\", sample_pred)"
   ]
  },
  {
   "cell_type": "code",
   "execution_count": null,
   "id": "5a8fd93d",
   "metadata": {
    "papermill": {
     "duration": 0.003452,
     "end_time": "2025-05-16T19:27:33.092883",
     "exception": false,
     "start_time": "2025-05-16T19:27:33.089431",
     "status": "completed"
    },
    "tags": []
   },
   "outputs": [],
   "source": []
  },
  {
   "cell_type": "code",
   "execution_count": null,
   "id": "581f0f5b",
   "metadata": {
    "papermill": {
     "duration": 0.003763,
     "end_time": "2025-05-16T19:27:33.100324",
     "exception": false,
     "start_time": "2025-05-16T19:27:33.096561",
     "status": "completed"
    },
    "tags": []
   },
   "outputs": [],
   "source": []
  },
  {
   "cell_type": "code",
   "execution_count": null,
   "id": "9b5b04f5",
   "metadata": {
    "papermill": {
     "duration": 0.003635,
     "end_time": "2025-05-16T19:27:33.107924",
     "exception": false,
     "start_time": "2025-05-16T19:27:33.104289",
     "status": "completed"
    },
    "tags": []
   },
   "outputs": [],
   "source": []
  },
  {
   "cell_type": "code",
   "execution_count": null,
   "id": "22b901d8",
   "metadata": {
    "papermill": {
     "duration": 0.003364,
     "end_time": "2025-05-16T19:27:33.115089",
     "exception": false,
     "start_time": "2025-05-16T19:27:33.111725",
     "status": "completed"
    },
    "tags": []
   },
   "outputs": [],
   "source": []
  },
  {
   "cell_type": "code",
   "execution_count": null,
   "id": "81a1a65d",
   "metadata": {
    "papermill": {
     "duration": 0.003307,
     "end_time": "2025-05-16T19:27:33.122457",
     "exception": false,
     "start_time": "2025-05-16T19:27:33.119150",
     "status": "completed"
    },
    "tags": []
   },
   "outputs": [],
   "source": []
  }
 ],
 "metadata": {
  "kaggle": {
   "accelerator": "none",
   "dataSources": [
    {
     "sourceId": 239954219,
     "sourceType": "kernelVersion"
    }
   ],
   "dockerImageVersionId": 31040,
   "isGpuEnabled": false,
   "isInternetEnabled": true,
   "language": "python",
   "sourceType": "notebook"
  },
  "kernelspec": {
   "display_name": "base",
   "language": "python",
   "name": "python3"
  },
  "language_info": {
   "codemirror_mode": {
    "name": "ipython",
    "version": 3
   },
   "file_extension": ".py",
   "mimetype": "text/x-python",
   "name": "python",
   "nbconvert_exporter": "python",
   "pygments_lexer": "ipython3",
   "version": "3.12.7"
  },
  "papermill": {
   "default_parameters": {},
   "duration": 121.929791,
   "end_time": "2025-05-16T19:27:33.848234",
   "environment_variables": {},
   "exception": null,
   "input_path": "__notebook__.ipynb",
   "output_path": "__notebook__.ipynb",
   "parameters": {},
   "start_time": "2025-05-16T19:25:31.918443",
   "version": "2.6.0"
  }
 },
 "nbformat": 4,
 "nbformat_minor": 5
}
